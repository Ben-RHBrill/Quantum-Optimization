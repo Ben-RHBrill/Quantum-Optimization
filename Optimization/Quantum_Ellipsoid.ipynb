{
 "cells": [
  {
   "cell_type": "code",
   "execution_count": 19,
   "id": "4e3839f1",
   "metadata": {},
   "outputs": [],
   "source": [
    "from qiskit import *\n",
    "from qiskit.circuit.library import UnitaryGate\n",
    "from qiskit.circuit.library import HamiltonianGate\n",
    "from qiskit.quantum_info import Statevector\n",
    "from qiskit_aer import AerSimulator\n",
    "simulator = AerSimulator()\n",
    "\n",
    "import numpy as np\n",
    "from numpy import linalg\n",
    "import math\n",
    "import random\n",
    "\n",
    "from sympy import Matrix\n",
    "from sympy.physics.quantum import TensorProduct\n",
    "\n",
    "import matplotlib.pyplot as plt\n",
    "\n",
    "%run QuantumFourierTransform.ipynb"
   ]
  },
  {
   "cell_type": "code",
   "execution_count": 20,
   "id": "3c547de5",
   "metadata": {},
   "outputs": [],
   "source": [
    "# Find x to solve Ax >= b\n",
    "\n",
    "# Input matrix A\n",
    "A = np.array([[1,1],\n",
    "              [1,-1],\n",
    "              [-1,0],\n",
    "              [1,0],\n",
    "              [0,1]])\n",
    "\n",
    "# Input vector b\n",
    "b = np.array([[1],\n",
    "             [-1],\n",
    "             [-1],\n",
    "             [0],\n",
    "             [0]])"
   ]
  },
  {
   "cell_type": "code",
   "execution_count": 21,
   "id": "d7ff1172",
   "metadata": {},
   "outputs": [],
   "source": [
    "# Rescale matrix A such that its rows can be encoded as quantum states\n",
    "\n",
    "def Rescale(A,b):\n",
    "    A_rescale = []\n",
    "    b_rescale = []\n",
    "    for row in range(len(A)):\n",
    "        length = 0.0\n",
    "        for entry in range(len(A[row])):\n",
    "            length = length+(float(A[row][entry])**2)\n",
    "        length = math.sqrt(length)\n",
    "        \n",
    "        temp_A = list(A[row]/length)\n",
    "        temp_b = list(b[row]/length)\n",
    "        \n",
    "        A_rescale.append(temp_A)\n",
    "        b_rescale.append(temp_b)\n",
    "    \n",
    "    new_A = np.array(A_rescale)\n",
    "    new_b = np.array(b_rescale)\n",
    "    \n",
    "    return(new_A, new_b)"
   ]
  },
  {
   "cell_type": "code",
   "execution_count": 22,
   "id": "a56466eb",
   "metadata": {},
   "outputs": [],
   "source": [
    "# Initializes the algorithm\n",
    "\n",
    "def Initialize(A,b):\n",
    "    U = float(max(A.max(),b.max()))\n",
    "    n = float(len(A[0]))\n",
    "    \n",
    "    small_v = n**(-n) * (n*U)**((-n**(2))*(n+1))\n",
    "    big_V = (2*n)**n *(n*U)**(n**2)\n",
    "    max_time = math.ceil(2*(n+1)*math.log(big_V/small_v))\n",
    "    \n",
    "    radius = big_V/math.pi\n",
    "    D_0 = radius*np.identity(int(n))\n",
    "    \n",
    "    return(max_time, D_0)"
   ]
  },
  {
   "cell_type": "code",
   "execution_count": 166,
   "id": "e6a82021",
   "metadata": {},
   "outputs": [],
   "source": [
    "# Performs the SWAP test on a and x, to find if their inner product is within alpha of b\n",
    "def SwapTest(qc,x,a,b,alpha):\n",
    "    ### Prepair Gates which initialize quantum states ###\n",
    "    x_matrix = np.array([[0,0,x[0][0],0],\n",
    "                        [0,0,0,x[1][0]],\n",
    "                        [x[0][0],0,0,0],\n",
    "                        [0,x[1][0],0,0]])\n",
    "    x_gate = HamiltonianGate(x_matrix,4,\"x\").control(1)\n",
    "    \n",
    "    a_matrix = np.array([[0,0,a[0],0],\n",
    "                        [0,0,0,a[1]],\n",
    "                        [a[0],0,0,0],\n",
    "                        [0,a[1],0,0]])\n",
    "    a_gate = HamiltonianGate(a_matrix,1,\"a\").control(1)\n",
    "    \n",
    "    ### Creating Circuit ###\n",
    "    qc.h(0)\n",
    "    qc.append(x_gate,[0,1,2])\n",
    "    qc.append(a_gate,[0,1,2])\n",
    "    qc.h(0)\n",
    "    \n",
    "    qc.measure(0,0)\n",
    "    \n",
    "    ### Testing ###\n",
    "    job = transpile(qc,backend=simulator)\n",
    "    shots = int(math.ceil(1/(alpha**2)))\n",
    "    result = simulator.run(job, shots=shots).result()\n",
    "    \n",
    "    ### Post-Processing ###\n",
    "    # If the inner products are close enough to each other, then it passes. Otherwise, it gives the violated row.\n",
    "    if abs(math.sqrt(1-2*(result.data()['counts']['0x1']/shots)) - b) >= alpha:\n",
    "        return 0\n",
    "    else:\n",
    "        return a"
   ]
  },
  {
   "cell_type": "code",
   "execution_count": 181,
   "id": "34c4ec39",
   "metadata": {},
   "outputs": [],
   "source": [
    "# Find the violated row of A. Give a rescaled A as above. Give current x, give b, give error alpha\n",
    "def ViolatedRow(qc,A,x,b,alpha):\n",
    "    x_norm = linalg.norm(x)\n",
    "    \n",
    "    if x_norm <= float(0):\n",
    "        b_norm = b/x_norm\n",
    "    else:\n",
    "        b_norm = b\n",
    "    \n",
    "    return x,x_norm,b_norm"
   ]
  },
  {
   "cell_type": "code",
   "execution_count": 182,
   "id": "b6039ad5",
   "metadata": {},
   "outputs": [
    {
     "name": "stderr",
     "output_type": "stream",
     "text": [
      "C:\\Users\\Ben\\AppData\\Local\\Temp\\ipykernel_14272\\645913594.py:6: RuntimeWarning: divide by zero encountered in divide\n",
      "  b_norm = b/x_norm\n",
      "C:\\Users\\Ben\\AppData\\Local\\Temp\\ipykernel_14272\\645913594.py:6: RuntimeWarning: invalid value encountered in divide\n",
      "  b_norm = b/x_norm\n"
     ]
    },
    {
     "data": {
      "text/plain": [
       "(array([[0],\n",
       "        [0]]),\n",
       " 0.0,\n",
       " array([[ inf],\n",
       "        [-inf],\n",
       "        [-inf],\n",
       "        [ nan],\n",
       "        [ nan]]))"
      ]
     },
     "execution_count": 182,
     "metadata": {},
     "output_type": "execute_result"
    }
   ],
   "source": [
    "qc = QuantumCircuit(3,1)\n",
    "M,c = Rescale(A,b)\n",
    "x = np.array([[0],\n",
    "              [0]])\n",
    "\n",
    "ViolatedRow(qc,M,x,c,.01)"
   ]
  },
  {
   "cell_type": "code",
   "execution_count": null,
   "id": "d1086733",
   "metadata": {},
   "outputs": [],
   "source": [
    "qc = QuantumCircuit(3,1)\n",
    "ViolatedRow()"
   ]
  },
  {
   "cell_type": "code",
   "execution_count": 7,
   "id": "a5afddad",
   "metadata": {},
   "outputs": [],
   "source": [
    "def MainLoop(A,b,max_time,D_0):\n",
    "    t = 0\n",
    "    while t <= max_time:\n",
    "        t = t+1\n",
    "        \n",
    "    return print(\"P is empty\")"
   ]
  },
  {
   "cell_type": "code",
   "execution_count": 8,
   "id": "642a6ae3",
   "metadata": {},
   "outputs": [
    {
     "name": "stdout",
     "output_type": "stream",
     "text": [
      "P is empty\n"
     ]
    }
   ],
   "source": [
    "A,b = Rescale(A,b)\n",
    "max_time, D_0 = Initialize(A,b)\n",
    "\n",
    "MainLoop(A,b,max_time,D_0)"
   ]
  },
  {
   "cell_type": "code",
   "execution_count": 44,
   "id": "45022f90",
   "metadata": {},
   "outputs": [
    {
     "data": {
      "image/png": "[encoded data removed]",
      "text/plain": [
       "<Figure size 789.163x367.889 with 1 Axes>"
      ]
     },
     "execution_count": 44,
     "metadata": {},
     "output_type": "execute_result"
    }
   ],
   "source": [
    "qc = QuantumCircuit(3,1)\n",
    "\n",
    "qc.h(0)\n",
    "qc.h(1)\n",
    "\n",
    "qc.barrier(label=' ')\n",
    "qc.cswap(0,1,2)\n",
    "qc.h(0)\n",
    "\n",
    "qc.measure(0,0)\n",
    "qc.save_statevector()\n",
    "\n",
    "qc.draw(output='mpl')"
   ]
  },
  {
   "cell_type": "code",
   "execution_count": 45,
   "id": "13a39c04",
   "metadata": {},
   "outputs": [
    {
     "data": {
      "text/latex": [
       "$$\\frac{\\sqrt{6}}{3} |000\\rangle+\\frac{\\sqrt{6}}{6} |010\\rangle+\\frac{\\sqrt{6}}{6} |100\\rangle$$"
      ],
      "text/plain": [
       "<IPython.core.display.Latex object>"
      ]
     },
     "execution_count": 45,
     "metadata": {},
     "output_type": "execute_result"
    }
   ],
   "source": [
    "job = transpile(qc,backend=simulator)\n",
    "shots = 5\n",
    "\n",
    "result = simulator.run(job, shots=shots).result()\n",
    "    \n",
    "psi = result.get_statevector(0)\n",
    "psi.draw(output='latex')"
   ]
  },
  {
   "cell_type": "code",
   "execution_count": null,
   "id": "f7cedd11",
   "metadata": {},
   "outputs": [],
   "source": []
  }
 ],
 "metadata": {
  "kernelspec": {
   "display_name": "Python 3 (ipykernel)",
   "language": "python",
   "name": "python3"
  },
  "language_info": {
   "codemirror_mode": {
    "name": "ipython",
    "version": 3
   },
   "file_extension": ".py",
   "mimetype": "text/x-python",
   "name": "python",
   "nbconvert_exporter": "python",
   "pygments_lexer": "ipython3",
   "version": "3.11.9"
  }
 },
 "nbformat": 4,
 "nbformat_minor": 5
}
