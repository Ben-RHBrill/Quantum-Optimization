{
 "cells": [
  {
   "cell_type": "code",
   "execution_count": 1,
   "id": "9f201605",
   "metadata": {},
   "outputs": [],
   "source": [
    "import numpy as np\n",
    "import math\n",
    "import matplotlib.pyplot as plt\n",
    "\n",
    "from numpy import linalg"
   ]
  },
  {
   "cell_type": "code",
   "execution_count": 2,
   "id": "6713d120",
   "metadata": {},
   "outputs": [],
   "source": [
    "# Gives the vertical transpose of a horizontal matrix\n",
    "def trans(row):\n",
    "    new= []\n",
    "    for element in range(len(row)):\n",
    "        new.append([row[element]])\n",
    "        \n",
    "    return np.array(new)"
   ]
  },
  {
   "cell_type": "code",
   "execution_count": 3,
   "id": "a93b5577",
   "metadata": {},
   "outputs": [],
   "source": [
    "# Give the scalar x^T A x for given vector x and matrix A\n",
    "def definite(A,x):\n",
    "    return x.dot(A.dot(trans(x)))[0]"
   ]
  },
  {
   "cell_type": "code",
   "execution_count": 4,
   "id": "187d39be",
   "metadata": {},
   "outputs": [],
   "source": [
    "def newMatrix(D,a):\n",
    "    return D.dot(trans(a))*a.dot(D)"
   ]
  },
  {
   "cell_type": "code",
   "execution_count": 63,
   "id": "2e4abbf0",
   "metadata": {},
   "outputs": [],
   "source": [
    "def graphEllipse(D,c,r):\n",
    "    x = np.linspace(-10,10, 1000)\n",
    "    y = np.linspace(-10,10, 1000)\n",
    "    x, y = np.meshgrid(x, y)\n",
    "    \n",
    "    inD = np.linalg.inv(D)\n",
    "    \n",
    "    plt.contour(x,y,((inD[0][0]*(x-c[0])**2) + ((inD[0][1]+inD[1][0])*(y-c[1])*(x-c[0])) + (inD[1][1]*(y-c[1])**2)), [1], colors='blue')\n",
    "    plt.plot(c[0],c[1], marker='o', color='red')\n",
    "    plt.show()"
   ]
  },
  {
   "cell_type": "markdown",
   "id": "d8dd3a4e",
   "metadata": {},
   "source": [
    "## Initialize"
   ]
  },
  {
   "cell_type": "code",
   "execution_count": 56,
   "id": "643ba5f4",
   "metadata": {},
   "outputs": [],
   "source": [
    "# This function find the correct length of our solution vector x\n",
    "def findDimension(A):\n",
    "    return(float(len(A[0])))"
   ]
  },
  {
   "cell_type": "code",
   "execution_count": 57,
   "id": "baa60c01",
   "metadata": {},
   "outputs": [],
   "source": [
    "# This function finds the largest item in the given matrix A and vector b, so it can be used in the initialization\n",
    "def findU(A,b):\n",
    "    List_of_Elements = []\n",
    "    \n",
    "    for row in A:\n",
    "        for element in row:\n",
    "            List_of_Elements.append(element)\n",
    "            \n",
    "    for row in b:\n",
    "        for element in row:\n",
    "            List_of_Elements.append(element)\n",
    "            \n",
    "    return(max(List_of_Elements))"
   ]
  },
  {
   "cell_type": "code",
   "execution_count": 58,
   "id": "db482afd",
   "metadata": {},
   "outputs": [],
   "source": [
    "def Initialize(A,b):\n",
    "    n = findDimension(A)\n",
    "    U = findU(A,b)\n",
    "    \n",
    "    # The smallest possible volume of the space\n",
    "    v = ((n**(-n)) * ((n*U)**(-(n**2)*(n+1))))\n",
    "    \n",
    "    \n",
    "    # The volume for which the must be a feasible point if one exists\n",
    "    W = (((2*n)**n) * (n * U)**(n**2))\n",
    "    \n",
    "    # Maximum number of iterations needed\n",
    "    Max_Time = math.ceil(2*(n+1) * math.log(W/v))\n",
    "    \n",
    "    # Gives the initial center as the origin\n",
    "    Center = np.zeros((int(n),1))\n",
    "    \n",
    "    # the radius squared of the initial circle\n",
    "    r2 = W/math.pi\n",
    "    \n",
    "    # Original Circle matrix\n",
    "    D = r2*np.identity(int(n))\n",
    "    \n",
    "    return Max_Time, Center, D, r2"
   ]
  },
  {
   "cell_type": "markdown",
   "id": "2b98be3d",
   "metadata": {},
   "source": [
    "## Main Loop"
   ]
  },
  {
   "cell_type": "code",
   "execution_count": 59,
   "id": "28ce7aac",
   "metadata": {},
   "outputs": [],
   "source": [
    "#\n",
    "def NewEllipse(a,D,c):\n",
    "    \n",
    "    return 0"
   ]
  },
  {
   "cell_type": "code",
   "execution_count": null,
   "id": "e4d71192",
   "metadata": {},
   "outputs": [],
   "source": []
  },
  {
   "cell_type": "markdown",
   "id": "afdf6870",
   "metadata": {},
   "source": [
    "## Algorithm"
   ]
  },
  {
   "cell_type": "code",
   "execution_count": 81,
   "id": "3f6c5879",
   "metadata": {},
   "outputs": [],
   "source": [
    "def FeasibilityEllipsoidMethod(A,b):\n",
    "    n = findDimension(A)\n",
    "    time = 0\n",
    "    # Initialize\n",
    "    Max_Time, center, D, r2 = Initialize(A,b)\n",
    "\n",
    "\n",
    "    while time < Max_Time:\n",
    "        index = 0\n",
    "\n",
    "        \n",
    "        while index < len(A):\n",
    "            if time >= Max_Time:\n",
    "                break\n",
    "\n",
    "            if np.dot(A[index],center)[0] <= b[index][0]:\n",
    "                index = index + 1\n",
    "            else:\n",
    "                #print(center, '\\n')\n",
    "                \n",
    "                center = center + (1/(n+1))*((A[index].dot(D.dot(trans(A[index]))))/definite(D,A[index]))\n",
    "                D = (n**2/((n**2)-1)) * (D - ((2/(n+1))*((newMatrix(D,A[index]))/definite(D,A[index]))))\n",
    "                \n",
    "                #graphEllipse(D,center,r2)\n",
    "                \n",
    "                index = 0\n",
    "                time = time +1\n",
    "                \n",
    "        return print(f'A valid point is: \\n {center}')\n",
    "    \n",
    "    \n",
    "    return print('This space has no solution :(')"
   ]
  },
  {
   "cell_type": "markdown",
   "id": "10e2120f",
   "metadata": {},
   "source": [
    "## Testing"
   ]
  },
  {
   "cell_type": "code",
   "execution_count": 82,
   "id": "084ba198",
   "metadata": {},
   "outputs": [],
   "source": [
    "TM = np.array([[1,0],[0,1],[-1,-1]])\n",
    "TV = np.array([[5],[5],[-5]])"
   ]
  },
  {
   "cell_type": "code",
   "execution_count": 83,
   "id": "ab6c65f8",
   "metadata": {},
   "outputs": [
    {
     "name": "stdout",
     "output_type": "stream",
     "text": [
      "A valid point is: \n",
      " [[2.66666667]\n",
      " [2.66666667]]\n"
     ]
    }
   ],
   "source": [
    "FeasibilityEllipsoidMethod(TM,TV)"
   ]
  },
  {
   "cell_type": "code",
   "execution_count": null,
   "id": "d9b1edae",
   "metadata": {},
   "outputs": [],
   "source": []
  },
  {
   "cell_type": "code",
   "execution_count": null,
   "id": "0af00618",
   "metadata": {},
   "outputs": [],
   "source": []
  }
 ],
 "metadata": {
  "kernelspec": {
   "display_name": "Python 3 (ipykernel)",
   "language": "python",
   "name": "python3"
  },
  "language_info": {
   "codemirror_mode": {
    "name": "ipython",
    "version": 3
   },
   "file_extension": ".py",
   "mimetype": "text/x-python",
   "name": "python",
   "nbconvert_exporter": "python",
   "pygments_lexer": "ipython3",
   "version": "3.11.9"
  }
 },
 "nbformat": 4,
 "nbformat_minor": 5
}
