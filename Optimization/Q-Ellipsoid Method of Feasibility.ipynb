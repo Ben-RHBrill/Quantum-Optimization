{
 "cells": [
  {
   "cell_type": "markdown",
   "id": "415c3400",
   "metadata": {},
   "source": [
    "# Q-Ellipsoid Method of Feasibility"
   ]
  },
  {
   "cell_type": "markdown",
   "id": "ba384891",
   "metadata": {},
   "source": [
    "The point of this code is to find a feasible point of a polygon $P = \\{x \\in \\mathbb{R}^n: Ax \\geq b\\}$ where $A$ is an $m \\times n$ matrix and $b$ is a vector of length $m$. We can find a point $x^*$ such that it violates each constraint by at most $\\epsilon$"
   ]
  },
  {
   "cell_type": "code",
   "execution_count": 122,
   "id": "9f201605",
   "metadata": {},
   "outputs": [],
   "source": [
    "from qiskit import *\n",
    "from qiskit.circuit.library import StatePreparation\n",
    "from qiskit.circuit.library import UnitaryGate\n",
    "from qiskit.circuit.library import HamiltonianGate\n",
    "from qiskit.quantum_info import Statevector\n",
    "from qiskit_aer import AerSimulator\n",
    "simulator = AerSimulator()\n",
    "\n",
    "import numpy as np\n",
    "from numpy import linalg\n",
    "import math\n",
    "import scipy.linalg as la\n",
    "\n",
    "from sympy import Matrix\n",
    "from sympy.physics.quantum import TensorProduct\n",
    "\n",
    "import matplotlib.pyplot as plt"
   ]
  },
  {
   "cell_type": "markdown",
   "id": "5035f55d",
   "metadata": {},
   "source": [
    "## Misc. Functions"
   ]
  },
  {
   "cell_type": "code",
   "execution_count": 123,
   "id": "6713d120",
   "metadata": {},
   "outputs": [],
   "source": [
    "# Gives the vertical transpose of a horizontal vector. Used in finding new center and ellipse.\n",
    "def trans(row):\n",
    "    new= []\n",
    "    for element in range(len(row)):\n",
    "        new.append([row[element]])\n",
    "        \n",
    "    return np.array(new)"
   ]
  },
  {
   "cell_type": "code",
   "execution_count": 124,
   "id": "6992a8ba",
   "metadata": {},
   "outputs": [],
   "source": [
    "def create_unitary(v):\n",
    "    return np.hstack((v,la.null_space(v.T)))"
   ]
  },
  {
   "cell_type": "code",
   "execution_count": 125,
   "id": "2e4abbf0",
   "metadata": {},
   "outputs": [],
   "source": [
    "# Graphs a 2D ellipse of the form E(c,D)\n",
    "def graphEllipse(D,c):\n",
    "    x = np.linspace(-10,10, 1000)\n",
    "    y = np.linspace(-10,10, 1000)\n",
    "    x, y = np.meshgrid(x, y)\n",
    "    \n",
    "    inD = np.linalg.inv(D)\n",
    "    \n",
    "    plt.contour(x,y,((inD[0][0]*(x-c[0])**2) + ((inD[0][1]+inD[1][0])*(y-c[1])*(x-c[0])) + (inD[1][1]*(y-c[1])**2)), [1], colors='blue')\n",
    "    plt.plot(c[0],c[1], marker='o', color='red')\n",
    "    plt.show()"
   ]
  },
  {
   "cell_type": "markdown",
   "id": "3381c19f",
   "metadata": {},
   "source": [
    "### Input and Conditioning"
   ]
  },
  {
   "cell_type": "code",
   "execution_count": 127,
   "id": "d8f0d298",
   "metadata": {},
   "outputs": [],
   "source": [
    "def conditionMatrixVector(A,b):\n",
    "    A_new = []\n",
    "    b_new = b\n",
    "    \n",
    "    # Get the matrix A to be of the proper dimension so its rows can be encoded as quantum states\n",
    "    # This also forses there the be zeros in the last column\n",
    "    # This is so we can initialize the center to have a 1 in the last column so it will always be a unit vector\n",
    "    for row in range(len(A)):\n",
    "        new_row = list(A[row])\n",
    "        \n",
    "        for zero in range(dim_dif):\n",
    "            new_row.append(0.0)\n",
    "        \n",
    "        A_new.append(new_row)\n",
    "        \n",
    "    A_new = np.array(A_new)\n",
    "    \n",
    "    # Here, we normalize the rows of A so that they can be encoded as quantum states\n",
    "    # We scale the entries of b so that the polytope defined remains the same\n",
    "    for index in range(len(A)):\n",
    "        b_new[index] = b_new[index]/np.linalg.norm(A_new[index])\n",
    "        A_new[index] = A_new[index]/np.linalg.norm(A_new[index])\n",
    "        \n",
    "    # Here, we scale b so that we can acurately tell if we passed or failed the constraint\n",
    "    # It must be that the largest magnitude entry in b is at most 1, since we test constraints by multiply two unit vectors\n",
    "    # This is a consequence of the Cauchey-Schwartz inequallity\n",
    "    k = np.linalg.norm(b_new)\n",
    "    b_new = b_new/k\n",
    "    \n",
    "    return A_new, b_new,k"
   ]
  },
  {
   "cell_type": "code",
   "execution_count": 128,
   "id": "a6a49111",
   "metadata": {},
   "outputs": [],
   "source": [
    "A, b, k = conditionMatrixVector(A_prime, b_prime)"
   ]
  },
  {
   "cell_type": "markdown",
   "id": "43e3450c",
   "metadata": {},
   "source": [
    "### Violated Constraints"
   ]
  },
  {
   "cell_type": "code",
   "execution_count": 170,
   "id": "7d54f2c0",
   "metadata": {},
   "outputs": [],
   "source": [
    "# Here will be a function that generates a unitary gate given a unit vector row called a_i\n",
    "# The point of this gate is that when given |0>, it will produce the state described by a_i\n",
    "\n",
    "# The unitaries and controled versions which encode the rows of A\n",
    "def create_A_gates(A):\n",
    "    A_gates = {}\n",
    "    A_c_gates = {}\n",
    "\n",
    "    for index in range(len(A)):\n",
    "        new_unitary = create_unitary(trans(A[index]))\n",
    "\n",
    "        A_gates[index] = UnitaryGate(new_unitary,label=f'a_{index}')\n",
    "        A_c_gates[index] = A_gates[index].control(1)\n",
    "        \n",
    "    return A_gates, A_c_gates"
   ]
  },
  {
   "cell_type": "code",
   "execution_count": 189,
   "id": "eb92210e",
   "metadata": {},
   "outputs": [],
   "source": [
    "# Takes the inner product of a and x, and checks it against b to see if there has been a row violation\n",
    "\n",
    "def InnerProduct(index,x):\n",
    "    # Here we have made the controled x-unitary\n",
    "    x_c_unitary = UnitaryGate(create_unitary(x),label='x_gate').control(1)\n",
    "    \n",
    "    dim = x.size\n",
    "    num_qubits = int(2*math.log(dim,2)+1)\n",
    "    \n",
    "    qc = QuantumCircuit(num_qubits,1)\n",
    "    \n",
    "    qc.h(0)\n",
    "    \n",
    "    # Encode x on |0>\n",
    "    qc.barrier()\n",
    "    qc.x(0)\n",
    "    # Here I append the unitary gates manually, need to fix\n",
    "    qc.append(x_c_unitary, [0,1,2])\n",
    "    qc.x(0)\n",
    "    qc.barrier()\n",
    "    \n",
    "    # Encode the row on |1>\n",
    "    # Here I append the unitary gates manually, need to fix\n",
    "    qc.append(A_c_gates[index], [0,3,4])\n",
    "    \n",
    "    qc.h(0)\n",
    "    \n",
    "    qc.measure(0,0)\n",
    "    \n",
    "    # This section runs the quantum simulation\n",
    "    job = transpile(qc,backend=simulator)\n",
    "    shots = 1000000\n",
    "\n",
    "    result = simulator.run(job, shots=shots).result()\n",
    "\n",
    "    try:\n",
    "        p = result.get_counts(qc)['0']/shots\n",
    "    except:\n",
    "        p = 0\n",
    "\n",
    "    InnerProduct = 2*p - 1\n",
    "\n",
    "    \n",
    "    return InnerProduct"
   ]
  },
  {
   "cell_type": "code",
   "execution_count": 190,
   "id": "91ef415f",
   "metadata": {},
   "outputs": [],
   "source": [
    "def NewCenter(A,b,center):\n",
    "    violated_rows = []\n",
    "\n",
    "    for index in range(len(A)):\n",
    "        if InnerProduct(index,center) < b[index]:\n",
    "            violated_rows.append(index)\n",
    "\n",
    "    move_vector = np.zeros((dim_new, 1))\n",
    "\n",
    "    for index in violated_rows:\n",
    "        move_vector = move_vector + trans(A[index])\n",
    "\n",
    "    center = center+move_vector\n",
    "    center = center/np.linalg.norm(center)\n",
    "    \n",
    "    return center"
   ]
  },
  {
   "cell_type": "code",
   "execution_count": 191,
   "id": "de85e225",
   "metadata": {},
   "outputs": [],
   "source": [
    "# Definines a space such that $-x >= -3, y >= 4, x+y >= 5$\n",
    "\n",
    "# This is the constraint matrix\n",
    "A_prime = np.array([[-1,0],\n",
    "                    [0,1],\n",
    "                    [1.0,1.0]])\n",
    "\n",
    "# This is the constraint vector\n",
    "b_prime = np.array([[-3.0],\n",
    "                    [4.0],\n",
    "                    [5.0]])\n",
    "\n",
    "dim_new = 2**math.ceil(math.log(len(A_prime[0]),2)+1)\n",
    "dim_dif = dim_new - len(A_prime[0])\n",
    "\n",
    "# Initial center point creation\n",
    "center = []\n",
    "for zero in range(dim_new-1):\n",
    "    center.append([0])\n",
    "    \n",
    "center.append([1])\n",
    "center = np.array(center)\n",
    "\n",
    "# Generate needed unitaries\n",
    "A_gates, A_c_gates = create_A_gates(A)"
   ]
  },
  {
   "cell_type": "code",
   "execution_count": 192,
   "id": "d845d2cd",
   "metadata": {},
   "outputs": [],
   "source": [
    "center = NewCenter(A,b,center)"
   ]
  },
  {
   "cell_type": "code",
   "execution_count": 184,
   "id": "0d5278eb",
   "metadata": {},
   "outputs": [
    {
     "name": "stdout",
     "output_type": "stream",
     "text": [
      "[[-1.          0.          0.          0.        ]\n",
      " [ 0.          1.          0.          0.        ]\n",
      " [ 0.70710678  0.70710678  0.          0.        ]]\n",
      "\n",
      "\n",
      "[[2.33914409]\n",
      " [5.64719337]\n",
      " [0.        ]\n",
      " [0.37096083]]\n",
      "\n",
      "\n",
      "[[-3.        ]\n",
      " [ 4.        ]\n",
      " [ 3.53553391]]\n"
     ]
    }
   ],
   "source": [
    "print(A)\n",
    "print('\\n')\n",
    "print(center*k)\n",
    "print('\\n')\n",
    "print(b*k)"
   ]
  },
  {
   "cell_type": "code",
   "execution_count": null,
   "id": "0bfce178",
   "metadata": {},
   "outputs": [],
   "source": []
  }
 ],
 "metadata": {
  "kernelspec": {
   "display_name": "Python 3 (ipykernel)",
   "language": "python",
   "name": "python3"
  },
  "language_info": {
   "codemirror_mode": {
    "name": "ipython",
    "version": 3
   },
   "file_extension": ".py",
   "mimetype": "text/x-python",
   "name": "python",
   "nbconvert_exporter": "python",
   "pygments_lexer": "ipython3",
   "version": "3.11.9"
  }
 },
 "nbformat": 4,
 "nbformat_minor": 5
}
