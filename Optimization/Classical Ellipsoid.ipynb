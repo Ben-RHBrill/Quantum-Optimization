{
 "cells": [
  {
   "cell_type": "code",
   "execution_count": 86,
   "id": "4e3839f1",
   "metadata": {},
   "outputs": [],
   "source": [
    "import numpy as np\n",
    "import math\n",
    "\n",
    "from sympy import Matrix\n",
    "from sympy.physics.quantum import TensorProduct"
   ]
  },
  {
   "cell_type": "code",
   "execution_count": 87,
   "id": "5568c8bf",
   "metadata": {},
   "outputs": [],
   "source": [
    "# Finds the index where a linear system is violated, returns the row which is in violation\n",
    "\n",
    "def violation(A,b,x):\n",
    "    check = (A@x >= b)\n",
    "    \n",
    "    for box in range(len(check)):\n",
    "        if check[box][0] == False:\n",
    "            return box"
   ]
  },
  {
   "cell_type": "code",
   "execution_count": 110,
   "id": "946a586b",
   "metadata": {},
   "outputs": [],
   "source": [
    "# https://webdocs.cs.ualberta.ca/~zacharyf/courses/combopt_2016/notes/lec21.pdf\n",
    "def violation_cut(D,a):\n",
    "    a_horz = a\n",
    "    a_vert = a.reshape(-1,1)\n",
    "    print(a)\n",
    "    \n",
    "    num_product = D@a_vert\n",
    "    denom_product =  a_horz@num_product\n",
    "    \n",
    "    print(denom_product, '\\n')\n",
    "    \n",
    "    b= (1/math.sqrt(denom_product[0]))*num_product\n",
    "    \n",
    "    return b"
   ]
  },
  {
   "cell_type": "code",
   "execution_count": 111,
   "id": "e2964f79",
   "metadata": {},
   "outputs": [],
   "source": [
    "# Gives a new center for one iteration of the ellipsoid method\n",
    "\n",
    "def recenter(n, center, cut):\n",
    "    center = center + (1/(n+1))*cut\n",
    "    print(center, '\\n')\n",
    "    return center"
   ]
  },
  {
   "cell_type": "code",
   "execution_count": 112,
   "id": "2acc9ae6",
   "metadata": {},
   "outputs": [],
   "source": [
    "# Gives a matrix defining the new shape of the ellipsoid after one iteration of ellipsoid method\n",
    "\n",
    "def reshape(n, D, a, cut):\n",
    "    b = cut\n",
    "    b_trans = np.swapaxes(b,0,1)\n",
    "    \n",
    "    shape = (math.pow(n,2)/(math.pow(n,2)-1)) * (D - (2/(n-1))*b@b_trans)\n",
    "    print(shape, '\\n \\n')\n",
    "    \n",
    "    return shape"
   ]
  },
  {
   "cell_type": "code",
   "execution_count": 113,
   "id": "62080d3e",
   "metadata": {},
   "outputs": [],
   "source": [
    "# Goes through one iteration of the main loop of the ellipsoid method\n",
    "# A and b define the polygon P we are testing for, P := {x: Ax >= b}\n",
    "# center and D define the ellipsoid searching for P\n",
    "# n is the dimension of the system\n",
    "\n",
    "def Ellipsoid_Iter(A,b,center,D,n):\n",
    "    # Checks to see if current center is feasible\n",
    "    test = (A@center >= b)\n",
    "    \n",
    "    # If center is feasible\n",
    "    if np.all(test):\n",
    "        return print(f'The point {center} is feasible!')\n",
    "    \n",
    "    # If center is infeasible\n",
    "    else:\n",
    "        index = violation(A,b,center)\n",
    "        a = np.array(A[index])\n",
    "        \n",
    "        cut = violation_cut(D,a)\n",
    "        center = recenter(n, center, cut)\n",
    "        D = reshape(n, D, a, cut)\n",
    "        \n",
    "        new_ellipsoid = [center, D]\n",
    "        \n",
    "    return new_ellipsoid"
   ]
  },
  {
   "cell_type": "code",
   "execution_count": 114,
   "id": "68f7c453",
   "metadata": {},
   "outputs": [],
   "source": [
    "# Goes through the ellipsoid Method\n",
    "\n",
    "def Ellipsoid(A,b):\n",
    "    U = max(A.max(),b.max()) # Largest value defining P\n",
    "    n = float(len(b)) # Dimension of the system\n",
    "    \n",
    "    small_v = np.power(n,-n) * np.power((n*U), (-n**2 * (n+1))) # minimum possible volume of P\n",
    "    big_V = np.power(2*n,n) * np.power(n*U, n**2) # Maximum possible volume of P\n",
    "    \n",
    "    time_limit = math.ceil(2*(n+1) * math.log(big_V/small_v, 2)) # Time Limit\n",
    "    radius = big_V/math.pi # Radius squared of first unit ball\n",
    "    D = radius * np.identity(int(n)) # Defining matrix of first ellipsoid\n",
    "    center = np.zeros((int(n),1)) # First center set at 0\n",
    "    time = 0\n",
    "    data = [center,D]\n",
    "    print(center, '\\n', D, '\\n \\n')\n",
    "    \n",
    "    while time != time_limit:\n",
    "        #print(data[0],'; \\n', data[1], '\\n \\n')\n",
    "        data = Ellipsoid_Iter(A,b,center,D,n)\n",
    "        \n",
    "        # If data type isn't a list, then we end the loop\n",
    "        if type(data) != type([1,2,3]): \n",
    "            return('Process Ended')\n",
    "        \n",
    "        # If data is a list, recenter and reshape\n",
    "        center = data[0]\n",
    "        D = data[1]\n",
    "        time = time+1\n",
    "    \n",
    "    \n",
    "    return print('P is empty')"
   ]
  },
  {
   "cell_type": "code",
   "execution_count": 115,
   "id": "c6d500ce",
   "metadata": {},
   "outputs": [
    {
     "name": "stdout",
     "output_type": "stream",
     "text": [
      "[[0.]\n",
      " [0.]] \n",
      " [[81.48733086  0.        ]\n",
      " [ 0.         81.48733086]] \n",
      " \n",
      "\n",
      "[-1  1]\n",
      "[162.97466173] \n",
      "\n",
      "[[-2.12769216]\n",
      " [ 2.12769216]] \n",
      "\n",
      "[[1.89478063e-14 1.08649774e+02]\n",
      " [1.08649774e+02 1.89478063e-14]] \n",
      " \n",
      "\n",
      "[1 0]\n",
      "[1.89478063e-14] \n",
      "\n",
      "[[-2.12769212e+00]\n",
      " [ 2.63104399e+08]] \n",
      "\n",
      "[[-2.52637417e-14 -1.44866366e+02]\n",
      " [-1.44866366e+02 -1.66137417e+18]] \n",
      " \n",
      "\n",
      "[1 0]\n",
      "[-2.52637417e-14] \n",
      "\n"
     ]
    },
    {
     "ename": "ValueError",
     "evalue": "math domain error",
     "output_type": "error",
     "traceback": [
      "\u001b[1;31m---------------------------------------------------------------------------\u001b[0m",
      "\u001b[1;31mValueError\u001b[0m                                Traceback (most recent call last)",
      "Cell \u001b[1;32mIn[115], line 7\u001b[0m\n\u001b[0;32m      1\u001b[0m A \u001b[38;5;241m=\u001b[39m np\u001b[38;5;241m.\u001b[39marray([[\u001b[38;5;241m-\u001b[39m\u001b[38;5;241m1\u001b[39m,\u001b[38;5;241m1\u001b[39m],\n\u001b[0;32m      2\u001b[0m               [\u001b[38;5;241m1\u001b[39m,\u001b[38;5;241m0\u001b[39m]])\n\u001b[0;32m      4\u001b[0m b \u001b[38;5;241m=\u001b[39m np\u001b[38;5;241m.\u001b[39marray([[\u001b[38;5;241m1\u001b[39m],\n\u001b[0;32m      5\u001b[0m               [\u001b[38;5;241m1\u001b[39m]])\n\u001b[1;32m----> 7\u001b[0m Ellipsoid(A,b)\n",
      "Cell \u001b[1;32mIn[114], line 20\u001b[0m, in \u001b[0;36mEllipsoid\u001b[1;34m(A, b)\u001b[0m\n\u001b[0;32m     16\u001b[0m \u001b[38;5;28mprint\u001b[39m(center, \u001b[38;5;124m'\u001b[39m\u001b[38;5;130;01m\\n\u001b[39;00m\u001b[38;5;124m'\u001b[39m, D, \u001b[38;5;124m'\u001b[39m\u001b[38;5;130;01m\\n\u001b[39;00m\u001b[38;5;124m \u001b[39m\u001b[38;5;130;01m\\n\u001b[39;00m\u001b[38;5;124m'\u001b[39m)\n\u001b[0;32m     18\u001b[0m \u001b[38;5;28;01mwhile\u001b[39;00m time \u001b[38;5;241m!=\u001b[39m time_limit:\n\u001b[0;32m     19\u001b[0m     \u001b[38;5;66;03m#print(data[0],'; \\n', data[1], '\\n \\n')\u001b[39;00m\n\u001b[1;32m---> 20\u001b[0m     data \u001b[38;5;241m=\u001b[39m Ellipsoid_Iter(A,b,center,D,n)\n\u001b[0;32m     22\u001b[0m     \u001b[38;5;66;03m# If data type isn't a list, then we end the loop\u001b[39;00m\n\u001b[0;32m     23\u001b[0m     \u001b[38;5;28;01mif\u001b[39;00m \u001b[38;5;28mtype\u001b[39m(data) \u001b[38;5;241m!=\u001b[39m \u001b[38;5;28mtype\u001b[39m([\u001b[38;5;241m1\u001b[39m,\u001b[38;5;241m2\u001b[39m,\u001b[38;5;241m3\u001b[39m]): \n",
      "Cell \u001b[1;32mIn[113], line 19\u001b[0m, in \u001b[0;36mEllipsoid_Iter\u001b[1;34m(A, b, center, D, n)\u001b[0m\n\u001b[0;32m     16\u001b[0m index \u001b[38;5;241m=\u001b[39m violation(A,b,center)\n\u001b[0;32m     17\u001b[0m a \u001b[38;5;241m=\u001b[39m np\u001b[38;5;241m.\u001b[39marray(A[index])\n\u001b[1;32m---> 19\u001b[0m cut \u001b[38;5;241m=\u001b[39m violation_cut(D,a)\n\u001b[0;32m     20\u001b[0m center \u001b[38;5;241m=\u001b[39m recenter(n, center, cut)\n\u001b[0;32m     21\u001b[0m D \u001b[38;5;241m=\u001b[39m reshape(n, D, a, cut)\n",
      "Cell \u001b[1;32mIn[110], line 12\u001b[0m, in \u001b[0;36mviolation_cut\u001b[1;34m(D, a)\u001b[0m\n\u001b[0;32m      8\u001b[0m denom_product \u001b[38;5;241m=\u001b[39m  a_horz\u001b[38;5;129m@num_product\u001b[39m\n\u001b[0;32m     10\u001b[0m \u001b[38;5;28mprint\u001b[39m(denom_product, \u001b[38;5;124m'\u001b[39m\u001b[38;5;130;01m\\n\u001b[39;00m\u001b[38;5;124m'\u001b[39m)\n\u001b[1;32m---> 12\u001b[0m b\u001b[38;5;241m=\u001b[39m (\u001b[38;5;241m1\u001b[39m\u001b[38;5;241m/\u001b[39mmath\u001b[38;5;241m.\u001b[39msqrt(denom_product[\u001b[38;5;241m0\u001b[39m]))\u001b[38;5;241m*\u001b[39mnum_product\n\u001b[0;32m     14\u001b[0m \u001b[38;5;28;01mreturn\u001b[39;00m b\n",
      "\u001b[1;31mValueError\u001b[0m: math domain error"
     ]
    }
   ],
   "source": [
    "A = np.array([[-1,1],\n",
    "              [1,0]])\n",
    "\n",
    "b = np.array([[1],\n",
    "              [1]])\n",
    "\n",
    "Ellipsoid(A,b)"
   ]
  },
  {
   "cell_type": "code",
   "execution_count": null,
   "id": "821fb496",
   "metadata": {},
   "outputs": [],
   "source": []
  },
  {
   "cell_type": "code",
   "execution_count": null,
   "id": "9f7e523d",
   "metadata": {},
   "outputs": [],
   "source": []
  },
  {
   "cell_type": "code",
   "execution_count": null,
   "id": "b515d423",
   "metadata": {},
   "outputs": [],
   "source": []
  }
 ],
 "metadata": {
  "kernelspec": {
   "display_name": "Python 3 (ipykernel)",
   "language": "python",
   "name": "python3"
  },
  "language_info": {
   "codemirror_mode": {
    "name": "ipython",
    "version": 3
   },
   "file_extension": ".py",
   "mimetype": "text/x-python",
   "name": "python",
   "nbconvert_exporter": "python",
   "pygments_lexer": "ipython3",
   "version": "3.11.9"
  }
 },
 "nbformat": 4,
 "nbformat_minor": 5
}
