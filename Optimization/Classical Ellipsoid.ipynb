{
 "cells": [
  {
   "cell_type": "code",
   "execution_count": 116,
   "id": "4e3839f1",
   "metadata": {},
   "outputs": [],
   "source": [
    "import numpy as np\n",
    "import math\n",
    "\n",
    "from sympy import Matrix\n",
    "from sympy.physics.quantum import TensorProduct"
   ]
  },
  {
   "cell_type": "code",
   "execution_count": 117,
   "id": "5568c8bf",
   "metadata": {},
   "outputs": [],
   "source": [
    "# Finds the index where a linear system is violated, returns the row which is in violation\n",
    "\n",
    "def violation(A,b,x):\n",
    "    check = (A@x >= b)\n",
    "    \n",
    "    for box in range(len(check)):\n",
    "        if check[box][0] == False:\n",
    "            return box"
   ]
  },
  {
   "cell_type": "code",
   "execution_count": 181,
   "id": "e2964f79",
   "metadata": {},
   "outputs": [],
   "source": [
    "# Gives a new center for one iteration of the ellipsoid method\n",
    "\n",
    "def recenter(n, a, D, center):\n",
    "    #print(a)\n",
    "    a_horz = a\n",
    "    a_vert = np.reshape(a, (int(n),-1))\n",
    "    b = a_horz@D@a_vert\n",
    "    \n",
    "    center = center + (1/(n+1))*(1/math.sqrt(b[0]))*(D@a_vert)\n",
    "\n",
    "    return center"
   ]
  },
  {
   "cell_type": "code",
   "execution_count": 182,
   "id": "2acc9ae6",
   "metadata": {},
   "outputs": [],
   "source": [
    "# Gives a matrix defining the new shape of the ellipsoid after one iteration of ellipsoid method\n",
    "\n",
    "def reshape(n, D, a):\n",
    "    a_horz = a\n",
    "    a_vert = np.reshape(a, (int(n),-1))\n",
    "    b = a_horz@D@a_vert\n",
    "    mid = TensorProduct(a_vert,a_horz)\n",
    "    #print(mid)\n",
    "    \n",
    "    shape = (math.pow(n,2)/(math.pow(n,2)-1)) * (D - (2/(n+1))* ((D@mid@D)/b[0]) )\n",
    "    #print(shape, '\\n \\n')\n",
    "    \n",
    "    return shape"
   ]
  },
  {
   "cell_type": "code",
   "execution_count": 183,
   "id": "62080d3e",
   "metadata": {},
   "outputs": [],
   "source": [
    "# Goes through one iteration of the main loop of the ellipsoid method\n",
    "# A and b define the polygon P we are testing for, P := {x: Ax >= b}\n",
    "# center and D define the ellipsoid searching for P\n",
    "# n is the dimension of the system\n",
    "\n",
    "def Ellipsoid_Iter(A,b,center,D,n):\n",
    "    # Checks to see if current center is feasible\n",
    "    test = (A@center >= b)\n",
    "    \n",
    "    # If center is feasible\n",
    "    if np.all(test):\n",
    "        return print(f'The point {center} is feasible!')\n",
    "    \n",
    "    # If center is infeasible\n",
    "    else:\n",
    "        index = violation(A,b,center)\n",
    "        a = np.array(A[index])\n",
    "\n",
    "        center = recenter(n, a, D, center)\n",
    "        D = reshape(n, D, a)\n",
    "        \n",
    "        new_ellipsoid = [center, D]\n",
    "        \n",
    "    return new_ellipsoid"
   ]
  },
  {
   "cell_type": "code",
   "execution_count": 196,
   "id": "68f7c453",
   "metadata": {},
   "outputs": [],
   "source": [
    "# Goes through the ellipsoid Method\n",
    "\n",
    "def Ellipsoid(A,b):\n",
    "    ### INITIALIZE ###\n",
    "     # Largest input of A or b\n",
    "    U = max(A.max(),b.max())\n",
    "    # Dimension of the system\n",
    "    n = float(len(A[0])) \n",
    "    \n",
    "    # minimum possible volume of P\n",
    "    small_v = np.power(n,-n) * np.power((n*U), (-n**2 * (n+1))) \n",
    "    # Maximum possible volume of P\n",
    "    big_V = np.power(2*n,n) * np.power(n*U, n**2) \n",
    "    \n",
    "    # Time Limit\n",
    "    time_limit = math.ceil(2*(n+1) * math.log(big_V/small_v, 2)) \n",
    "    # Radius squared of first unit ball\n",
    "    radius = big_V/math.pi \n",
    "    # Defining matrix of first ellipsoid\n",
    "    D = radius * np.identity(int(n)) \n",
    "    # First center set at 0\n",
    "    center = np.zeros((int(n),1)) \n",
    "    \n",
    "    time = 0\n",
    "    data = [center,D]\n",
    "    counter = 0\n",
    "    \n",
    "    ### MAIN LOOP ###\n",
    "    while time != time_limit:\n",
    "        # Complete One Iteration of Ellipsoid Check\n",
    "        data = Ellipsoid_Iter(A,b,center,D,n)\n",
    "        \n",
    "        # If data type isn't a list, then we end the loop\n",
    "        if type(data) != type([1,2,3]): \n",
    "            return(f'Process Ended in {counter} Iterations')\n",
    "        \n",
    "        # If data is a list, recenter and reshape\n",
    "        center = data[0]\n",
    "        D = data[1]\n",
    "        time = time+1\n",
    "        counter = counter+1\n",
    "    \n",
    "    return print(f'P is empty. Process ended in {counter} iterations')"
   ]
  },
  {
   "cell_type": "code",
   "execution_count": 198,
   "id": "c6d500ce",
   "metadata": {},
   "outputs": [
    {
     "name": "stdout",
     "output_type": "stream",
     "text": [
      "The point [[2.22889712]\n",
      " [1.92743038]] is feasible!\n"
     ]
    },
    {
     "data": {
      "text/plain": [
       "'Process Ended in 12 Iterations'"
      ]
     },
     "execution_count": 198,
     "metadata": {},
     "output_type": "execute_result"
    }
   ],
   "source": [
    "A = np.array([[1,0],\n",
    "              [-1,0],\n",
    "              [0,1],\n",
    "              [0,-1],\n",
    "              [1,1]])\n",
    "\n",
    "b = np.array([[2],\n",
    "              [-3],\n",
    "              [1],\n",
    "              [-2],\n",
    "              [-3]])\n",
    "\n",
    "Ellipsoid(A,b)"
   ]
  },
  {
   "cell_type": "code",
   "execution_count": null,
   "id": "821fb496",
   "metadata": {},
   "outputs": [],
   "source": []
  },
  {
   "cell_type": "code",
   "execution_count": null,
   "id": "9f7e523d",
   "metadata": {},
   "outputs": [],
   "source": []
  },
  {
   "cell_type": "code",
   "execution_count": null,
   "id": "b515d423",
   "metadata": {},
   "outputs": [],
   "source": []
  }
 ],
 "metadata": {
  "kernelspec": {
   "display_name": "Python 3 (ipykernel)",
   "language": "python",
   "name": "python3"
  },
  "language_info": {
   "codemirror_mode": {
    "name": "ipython",
    "version": 3
   },
   "file_extension": ".py",
   "mimetype": "text/x-python",
   "name": "python",
   "nbconvert_exporter": "python",
   "pygments_lexer": "ipython3",
   "version": "3.11.9"
  }
 },
 "nbformat": 4,
 "nbformat_minor": 5
}
