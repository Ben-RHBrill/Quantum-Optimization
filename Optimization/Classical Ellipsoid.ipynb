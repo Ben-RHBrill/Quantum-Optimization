{
 "cells": [
  {
   "cell_type": "code",
   "execution_count": 1,
   "id": "d742ca2b",
   "metadata": {},
   "outputs": [],
   "source": [
    "import numpy as np\n",
    "import math"
   ]
  },
  {
   "cell_type": "code",
   "execution_count": 74,
   "id": "3cf239e4",
   "metadata": {},
   "outputs": [],
   "source": [
    "# Finds the index where a linear system is violated\n",
    "\n",
    "def violation(A,b,x):\n",
    "    check = (A@x >= b)\n",
    "    \n",
    "    for box in range(len(check)):\n",
    "        if check[box][0] == False:\n",
    "            return box"
   ]
  },
  {
   "cell_type": "code",
   "execution_count": null,
   "id": "f78504f9",
   "metadata": {},
   "outputs": [],
   "source": [
    "def recenter(center, D, a):\n",
    "    return 0"
   ]
  },
  {
   "cell_type": "code",
   "execution_count": 117,
   "id": "92f669b0",
   "metadata": {},
   "outputs": [],
   "source": [
    "# A is a matrix and b is a vector\n",
    "\n",
    "def Ellipsoid(A,b):\n",
    "    U = max(A.max(),b.max())\n",
    "    n = float(len(b))\n",
    "    \n",
    "    small_v = np.power(n,-n) * np.power((n*U), (-n**2 * (n+1)))\n",
    "    big_V = np.power(2*n,n) * np.power(n*U, n**2)\n",
    "    \n",
    "    time_limit = math.ceil(2*(n+1) * math.log(big_V/small_v, 2))\n",
    "    radius = big_V/math.pi\n",
    "    D = radius * np.identity(int(n))\n",
    "    center = np.zeros((int(n),1))\n",
    "    time = 0\n",
    "    \n",
    "    while time != time_limit:\n",
    "        test = (A@center >= b)\n",
    "        \n",
    "        if np.all(test):\n",
    "            return print(center, \"|\", time)\n",
    "        \n",
    "        else:\n",
    "            index = violation(A,b,center)\n",
    "            a_horz = np.array(A[index])\n",
    "            a_vert = a_horz.reshape(-1,1)\n",
    "            \n",
    "            center = center + (1/(n+1))*((D@a_vert)/math.sqrt(a_horz@(D@a_vert)))\n",
    "            #D = (n**2/(n**2 - 1)) * (D - (2/(n+1))*(((D@a_vert)@(a_horz@D))/(a_horz@(D@a_vert))) )\n",
    "        \n",
    "        time = time+1\n",
    "    \n",
    "    \n",
    "    return print('P is empty')"
   ]
  },
  {
   "cell_type": "code",
   "execution_count": 118,
   "id": "58ec0902",
   "metadata": {},
   "outputs": [
    {
     "name": "stdout",
     "output_type": "stream",
     "text": [
      "[[27.08110001]\n",
      " [27.08110001]] | 2\n"
     ]
    },
    {
     "name": "stderr",
     "output_type": "stream",
     "text": [
      "C:\\Users\\Ben\\AppData\\Local\\Temp\\ipykernel_12300\\324504952.py:27: DeprecationWarning: Conversion of an array with ndim > 0 to a scalar is deprecated, and will error in future. Ensure you extract a single element from your array before performing this operation. (Deprecated NumPy 1.25.)\n",
      "  center = center + (1/(n+1))*((D@a_vert)/math.sqrt(a_horz@(D@a_vert)))\n"
     ]
    }
   ],
   "source": [
    "A = np.array([[1,0],\n",
    "              [0,2]])\n",
    "\n",
    "b = np.array([[3],\n",
    "              [2]])\n",
    "\n",
    "Ellipsoid(A,b)"
   ]
  },
  {
   "cell_type": "code",
   "execution_count": null,
   "id": "c4b589dc",
   "metadata": {},
   "outputs": [],
   "source": []
  },
  {
   "cell_type": "code",
   "execution_count": null,
   "id": "428481c4",
   "metadata": {},
   "outputs": [],
   "source": []
  },
  {
   "cell_type": "code",
   "execution_count": null,
   "id": "78f26326",
   "metadata": {},
   "outputs": [],
   "source": []
  }
 ],
 "metadata": {
  "kernelspec": {
   "display_name": "Python 3 (ipykernel)",
   "language": "python",
   "name": "python3"
  },
  "language_info": {
   "codemirror_mode": {
    "name": "ipython",
    "version": 3
   },
   "file_extension": ".py",
   "mimetype": "text/x-python",
   "name": "python",
   "nbconvert_exporter": "python",
   "pygments_lexer": "ipython3",
   "version": "3.11.9"
  }
 },
 "nbformat": 4,
 "nbformat_minor": 5
}
