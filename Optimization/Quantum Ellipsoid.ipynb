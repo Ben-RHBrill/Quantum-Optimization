{
 "cells": [
  {
   "cell_type": "code",
   "execution_count": 2,
   "id": "bd85d9fe",
   "metadata": {},
   "outputs": [],
   "source": [
    "from qiskit import *\n",
    "from qiskit.circuit.library import UnitaryGate\n",
    "from qiskit.circuit.library import HamiltonianGate\n",
    "from qiskit.quantum_info import Statevector\n",
    "from qiskit_aer import AerSimulator\n",
    "simulator = AerSimulator()\n",
    "\n",
    "import numpy as np\n",
    "from numpy import linalg\n",
    "import math\n",
    "\n",
    "from sympy import Matrix\n",
    "from sympy.physics.quantum import TensorProduct\n",
    "\n",
    "import matplotlib.pyplot as plt"
   ]
  },
  {
   "cell_type": "markdown",
   "id": "71bea72c",
   "metadata": {},
   "source": [
    "## The Problem\n",
    "\n",
    "The Ellipsoid Method(EM) solves convex optimization problems. It attemts to find a solution to the problem $\\textbf{min}(c^T x) \\textit{ s.t. } x \\in P = \\{x \\in R^n: Ax \\geq b\\}$ where $A$ and $b$ have integer inputs. If $P$ is empty, then EM will say so. Otherwise, it will find a feasible point, and then optimize from there."
   ]
  },
  {
   "cell_type": "markdown",
   "id": "20fc6423",
   "metadata": {},
   "source": [
    "### Initialize\n",
    "\n",
    "In order to run ellipsoid, we need a few objects. The first is the maximum number of iterations it is going to run and the second is the initial ellipsoid.\n",
    "\n",
    "By finding the smallest area of which $P$ can exist within, called $v$, and the largest area for a which a point of $P$ must exist within, called $V$, we can calculate the maximum number of iterations. We can then use a sphere of volume $V$ centered at $0$ as our first ellipsoid."
   ]
  },
  {
   "cell_type": "code",
   "execution_count": null,
   "id": "139f4bc1",
   "metadata": {},
   "outputs": [],
   "source": [
    "def Initialize(A,b):\n",
    "    U = float(max(A.max(),b.max()))\n",
    "    n = float(len(A[0]))\n",
    "    \n",
    "    small_v = n**(-n) * (n*U)**((-n**(2))*(n+1))\n",
    "    big_V = (2*n)**n *(n*U)**(n**2)\n",
    "    max_time = math.ceil(2*(n+1)*math.log(big_V/small_v))\n",
    "    \n",
    "    radius = big_V/math.pi\n",
    "    D_0 = radius*np.identity(int(n))\n",
    "    \n",
    "    return(max_time, D_0)"
   ]
  },
  {
   "cell_type": "markdown",
   "id": "670159b3",
   "metadata": {},
   "source": [
    "### Conditioning and Rescaling\n",
    "\n",
    "In order to ensure EM works properly, we must condition and scale $A$ and $b$. First, we calculate a perturbation $e$ which affects $b$ which generates a new polyhedra $P_e$. This polyhedra will be empty if $P$ is empty, and fully dimensional if $P$ is not. Then, we add 0s to the rows of $A$ so we are working in the space $\\mathbb{R}^{2^n}$, this is so it can be represented as qubits. Finally, we normalize the rows of $A$ so that they can be encoded as quantum states. We scale $b$ accordingly \n"
   ]
  },
  {
   "cell_type": "code",
   "execution_count": 44,
   "id": "52b1fb19",
   "metadata": {},
   "outputs": [],
   "source": [
    "def Rescale(A,b):\n",
    "    A_rescale = []\n",
    "    b_rescale = []\n",
    "    \n",
    "    # Perturbs $b$ by a small amount so it is fully dimensional.\n",
    "    n = len(A[0])\n",
    "    U = float(max(A.max(),b.max()))\n",
    "    \n",
    "    perturbation =  1/(2*(n+1) * ((n+1)*U)**(n+1))\n",
    "    \n",
    "    # Takes the rows of A and adds extra 0 variables so we are in R^(2^n) for some n\n",
    "    small_length = len(A[0])\n",
    "    large_length = 2**(math.ceil(math.log(small_length,2)))  # The smallest power of 2 which is >= small_length\n",
    "    difference = large_length - small_length\n",
    "    \n",
    "    # Takes the rows of A as vectors and normalizes them\n",
    "    for row in range(len(A)):\n",
    "        length = 0.0\n",
    "        for entry in range(len(A[row])):\n",
    "            length = length+(float(A[row][entry])**2)\n",
    "        length = math.sqrt(length)\n",
    "        \n",
    "        temp_A = list(A[row]/length)\n",
    "        i = 0\n",
    "        while i < difference:\n",
    "            temp_A.append(0.0)\n",
    "            i = i+1\n",
    "        \n",
    "        temp_b = (b[row]-perturbation)/length  # This is where Perturbation is used\n",
    "        \n",
    "        A_rescale.append(temp_A)\n",
    "        b_rescale.append(temp_b)\n",
    "    \n",
    "    new_A = np.array(A_rescale)\n",
    "    new_b = np.array(b_rescale)\n",
    "    \n",
    "    return(new_A, new_b)"
   ]
  },
  {
   "cell_type": "code",
   "execution_count": 8,
   "id": "e0106164",
   "metadata": {},
   "outputs": [],
   "source": [
    "# Given vectors a_row, and x_vector, test to see if their inner product in equal to b\n",
    "def SwapTest(a_row,x_vector,b_target,error):\n",
    "    # Rescale x_vector and b_target\n",
    "    x_norm = np.linalg.norm(x_vector)\n",
    "    x_normalized = x_vector/x_norm\n",
    "    b_normalized = b_target/x_norm\n",
    "    \n",
    "    # Prepair states a_row and x_normalized\n",
    "    length = int(math.log(len(a_row), 2))\n",
    "    circuit = QuantumCircuit(2*length+1,1)\n",
    "    \n",
    "    circuit.initialize(a_row, range(1,length+1))\n",
    "    circuit.initialize(x_normalized, range(length+1, 2*length+1))\n",
    "    \n",
    "    # Generate Circuit\n",
    "    circuit.h(0)\n",
    "    \n",
    "    for index in range(1,length+1):\n",
    "        circuit.cswap(0, index, index+length)\n",
    "    \n",
    "    circuit.h(0)\n",
    "    circuit.measure(0,0)\n",
    "    \n",
    "    # Perform measurements\n",
    "    job = transpile(circuit,backend=simulator)\n",
    "    shots = int(math.ceil(1/(error**2)))\n",
    "    result = simulator.run(job, shots=shots).result()\n",
    "    \n",
    "    # Data Processing\n",
    "    inner_product = math.sqrt(2*(result.data()['counts']['0x0']/shots-0.5))\n",
    "    difference = abs(inner_product - b_normalized)\n",
    "    \n",
    "    if difference >= error:\n",
    "        return a_row\n",
    "    else:\n",
    "        return \"Groovy\""
   ]
  },
  {
   "cell_type": "code",
   "execution_count": 9,
   "id": "b422c170",
   "metadata": {},
   "outputs": [],
   "source": [
    "# Given A_matrix, x_vector, and b_vector, will tell which row of A_matrix has been violated, if any\n",
    "def ViolatedRow(A_matrix,x_vector,b_vector,error):\n",
    "    for rows in range(len(A)):\n",
    "        if type(SwapTest(A[rows],x,b[rows],e)) == str:\n",
    "            pass\n",
    "        else:\n",
    "            return A[rows]\n",
    "        \n",
    "    return 'Groovy'"
   ]
  },
  {
   "cell_type": "code",
   "execution_count": 10,
   "id": "e2a7c306",
   "metadata": {},
   "outputs": [],
   "source": [
    "# Find the value (a^T)Da for gate D and state a\n",
    "def ExpectationValue(a,D,alpha):\n",
    "    a_horz = np.array(a)\n",
    "    a_vert = a_horz.reshape(len(a_horz),1)\n",
    "    \n",
    "    print(a_horz@(D@a_vert))"
   ]
  },
  {
   "cell_type": "code",
   "execution_count": 38,
   "id": "3d80b575",
   "metadata": {},
   "outputs": [],
   "source": [
    "# Test Data\n",
    "A = np.array([[0.8, 0.6, 0.0, 0.0, 0.0],\n",
    "              [1.0, 0.0, 0.0, 0.0, 0.0],\n",
    "              [0.5, 0.5, 0.5, 0.5, 0.0]])\n",
    "\n",
    "D = np.array([[2,0,0,0],\n",
    "              [0,2,0,0],\n",
    "              [0,0,2,0],\n",
    "              [0,0,0,2]])\n",
    "\n",
    "x = np.array([3.0, 2.0, 1.0, 0.0])\n",
    "\n",
    "b = np.array([3.605, 3.0, 3.0])\n",
    "\n",
    "e = .01"
   ]
  },
  {
   "cell_type": "code",
   "execution_count": 12,
   "id": "79550859",
   "metadata": {
    "scrolled": true
   },
   "outputs": [
    {
     "name": "stdout",
     "output_type": "stream",
     "text": [
      "[2.]\n"
     ]
    }
   ],
   "source": [
    "ExpectationValue(A[1],D,1)"
   ]
  },
  {
   "cell_type": "code",
   "execution_count": 13,
   "id": "b62eea1e",
   "metadata": {},
   "outputs": [],
   "source": [
    "# Given matrix A and vector b, give vector x such that Ax >= b with probability alpha\n",
    "def EllipsoidFeasibility(A,b,alpha):\n",
    "    return 0"
   ]
  },
  {
   "cell_type": "code",
   "execution_count": null,
   "id": "01c3a934",
   "metadata": {},
   "outputs": [],
   "source": []
  },
  {
   "cell_type": "code",
   "execution_count": null,
   "id": "97a85c2f",
   "metadata": {},
   "outputs": [],
   "source": []
  }
 ],
 "metadata": {
  "kernelspec": {
   "display_name": "Python 3 (ipykernel)",
   "language": "python",
   "name": "python3"
  },
  "language_info": {
   "codemirror_mode": {
    "name": "ipython",
    "version": 3
   },
   "file_extension": ".py",
   "mimetype": "text/x-python",
   "name": "python",
   "nbconvert_exporter": "python",
   "pygments_lexer": "ipython3",
   "version": "3.11.9"
  }
 },
 "nbformat": 4,
 "nbformat_minor": 5
}
