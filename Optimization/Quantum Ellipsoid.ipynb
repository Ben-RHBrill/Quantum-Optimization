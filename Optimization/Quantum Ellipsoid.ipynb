{
 "cells": [
  {
   "cell_type": "code",
   "execution_count": 1,
   "id": "bd85d9fe",
   "metadata": {},
   "outputs": [],
   "source": [
    "from qiskit import *\n",
    "from qiskit.circuit.library import UnitaryGate\n",
    "from qiskit.circuit.library import HamiltonianGate\n",
    "from qiskit.quantum_info import Statevector\n",
    "from qiskit_aer import AerSimulator\n",
    "simulator = AerSimulator()\n",
    "\n",
    "import numpy as np\n",
    "from numpy import linalg\n",
    "import math\n",
    "import random\n",
    "\n",
    "from sympy import Matrix\n",
    "from sympy.physics.quantum import TensorProduct\n",
    "\n",
    "import matplotlib.pyplot as plt\n",
    "\n",
    "%run QuantumFourierTransform.ipynb"
   ]
  },
  {
   "cell_type": "code",
   "execution_count": 2,
   "id": "52b1fb19",
   "metadata": {},
   "outputs": [],
   "source": [
    "# Rescale matrix A such that its rows can be encoded as quantum states\n",
    "\n",
    "def Rescale(A,b):\n",
    "    A_rescale = []\n",
    "    b_rescale = []\n",
    "    \n",
    "    # Takes the rows of A as vectors and normalizes them\n",
    "    for row in range(len(A)):\n",
    "        length = 0.0\n",
    "        for entry in range(len(A[row])):\n",
    "            length = length+(float(A[row][entry])**2)\n",
    "        length = math.sqrt(length)\n",
    "        \n",
    "        temp_A = list(A[row]/length)\n",
    "        temp_b = list(b[row]/length)\n",
    "        \n",
    "        A_rescale.append(temp_A)\n",
    "        b_rescale.append(temp_b)\n",
    "    \n",
    "    new_A = np.array(A_rescale)\n",
    "    new_b = np.array(b_rescale)\n",
    "    \n",
    "    # Takes the rows of A and adds extra 0 variables so we are in R^(2^n) for some n\n",
    "    small_length = \n",
    "    \n",
    "    return(new_A, new_b)"
   ]
  },
  {
   "cell_type": "code",
   "execution_count": 3,
   "id": "89fc5fd3",
   "metadata": {},
   "outputs": [],
   "source": [
    "# Initializes the algorithm\n",
    "\n",
    "def Initialize(A,b):\n",
    "    U = float(max(A.max(),b.max()))\n",
    "    n = float(len(A[0]))\n",
    "    \n",
    "    small_v = n**(-n) * (n*U)**((-n**(2))*(n+1))\n",
    "    big_V = (2*n)**n *(n*U)**(n**2)\n",
    "    max_time = math.ceil(2*(n+1)*math.log(big_V/small_v))\n",
    "    \n",
    "    radius = big_V/math.pi\n",
    "    D_0 = radius*np.identity(int(n))\n",
    "    \n",
    "    return(max_time, D_0)"
   ]
  },
  {
   "cell_type": "code",
   "execution_count": 115,
   "id": "e0106164",
   "metadata": {},
   "outputs": [],
   "source": [
    "# Given vectors a_row, and x_vector, test to see if their inner product in equal to b\n",
    "def SwapTest(a_row,x_vector,b_target,error):\n",
    "    # Rescale x_vector and b_target\n",
    "    x_norm = np.linalg.norm(x_vector)\n",
    "    x_normalized = x_vector/x_norm\n",
    "    b_normalized = b_target/x_norm\n",
    "    \n",
    "    # Prepair states a_row and x_normalized\n",
    "    length = int(math.log(len(a_row), 2))\n",
    "    circuit = QuantumCircuit(2*length+1,1)\n",
    "    \n",
    "    circuit.initialize(a_row, range(1,length+1))\n",
    "    circuit.initialize(x_normalized, range(length+1, 2*length+1))\n",
    "    \n",
    "    # Generate Circuit\n",
    "    circuit.h(0)\n",
    "    \n",
    "    for index in range(1,length+1):\n",
    "        circuit.cswap(0, index, index+length)\n",
    "    \n",
    "    circuit.h(0)\n",
    "    circuit.measure(0,0)\n",
    "    \n",
    "    # Perform measurements\n",
    "    job = transpile(circuit,backend=simulator)\n",
    "    shots = int(math.ceil(1/(error**2)))\n",
    "    result = simulator.run(job, shots=shots).result()\n",
    "    \n",
    "    # Data Processing\n",
    "    inner_product = math.sqrt(2*(result.data()['counts']['0x0']/shots-0.5))\n",
    "    difference = abs(inner_product - b_normalized)\n",
    "    \n",
    "    if difference >= error:\n",
    "        return a_row\n",
    "    else:\n",
    "        return \"Groovy\""
   ]
  },
  {
   "cell_type": "code",
   "execution_count": 116,
   "id": "b422c170",
   "metadata": {},
   "outputs": [],
   "source": [
    "# Given A_matrix, x_vector, and b_vector, will tell which row of A_matrix has been violated, if any\n",
    "def ViolatedRow(A_matrix,x_vector,b_vector,error):\n",
    "    for rows in range(len(A)):\n",
    "        if type(SwapTest(A[rows],x,b[rows],e)) == str:\n",
    "            pass\n",
    "        else:\n",
    "            return A[rows]\n",
    "        \n",
    "    return 'Groovy'"
   ]
  },
  {
   "cell_type": "code",
   "execution_count": 117,
   "id": "e2a7c306",
   "metadata": {},
   "outputs": [],
   "source": [
    "# Find the value (a^T)Da for gate D and state a\n",
    "def ExpectationValue(a,D,alpha):\n",
    "    a_horz = np.array(a)\n",
    "    a_vert = a_horz.reshape(len(a_horz),1)\n",
    "    \n",
    "    print(a_horz@(D@a_vert))"
   ]
  },
  {
   "cell_type": "code",
   "execution_count": 118,
   "id": "3d80b575",
   "metadata": {},
   "outputs": [],
   "source": [
    "# Test Data\n",
    "A = np.array([[0.8, 0.6, 0.0, 0.0],\n",
    "              [1.0, 0.0, 0.0, 0.0],\n",
    "              [0.5, 0.5, 0.5, 0.5]])\n",
    "\n",
    "D = np.array([[2,0,0,0],\n",
    "              [0,2,0,0],\n",
    "              [0,0,2,0],\n",
    "              [0,0,0,2]])\n",
    "\n",
    "x = np.array([3.0, 2.0, 1.0, 0.0])\n",
    "\n",
    "b = np.array([3.605, 3.0, 3.0])\n",
    "\n",
    "e = .01"
   ]
  },
  {
   "cell_type": "code",
   "execution_count": 119,
   "id": "79550859",
   "metadata": {
    "scrolled": true
   },
   "outputs": [
    {
     "name": "stdout",
     "output_type": "stream",
     "text": [
      "[2.]\n"
     ]
    }
   ],
   "source": [
    "ExpectationValue(A[1],D,1)"
   ]
  },
  {
   "cell_type": "code",
   "execution_count": 120,
   "id": "b62eea1e",
   "metadata": {},
   "outputs": [],
   "source": [
    "# Given matrix A and vector b, give vector x such that Ax >= b with probability alpha\n",
    "def EllipsoidFeasibility(A,b,alpha):\n",
    "    return 0"
   ]
  },
  {
   "cell_type": "code",
   "execution_count": null,
   "id": "01c3a934",
   "metadata": {},
   "outputs": [],
   "source": []
  },
  {
   "cell_type": "code",
   "execution_count": null,
   "id": "97a85c2f",
   "metadata": {},
   "outputs": [],
   "source": []
  }
 ],
 "metadata": {
  "kernelspec": {
   "display_name": "Python 3 (ipykernel)",
   "language": "python",
   "name": "python3"
  },
  "language_info": {
   "codemirror_mode": {
    "name": "ipython",
    "version": 3
   },
   "file_extension": ".py",
   "mimetype": "text/x-python",
   "name": "python",
   "nbconvert_exporter": "python",
   "pygments_lexer": "ipython3",
   "version": "3.11.9"
  }
 },
 "nbformat": 4,
 "nbformat_minor": 5
}
