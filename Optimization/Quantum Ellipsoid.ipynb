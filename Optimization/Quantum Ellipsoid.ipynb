{
 "cells": [
  {
   "cell_type": "code",
   "execution_count": 4,
   "id": "bd85d9fe",
   "metadata": {},
   "outputs": [],
   "source": [
    "from qiskit import *\n",
    "from qiskit.circuit.library import StatePreparation\n",
    "from qiskit.circuit.library import UnitaryGate\n",
    "from qiskit.circuit.library import HamiltonianGate\n",
    "from qiskit.quantum_info import Statevector\n",
    "from qiskit_aer import AerSimulator\n",
    "simulator = AerSimulator()\n",
    "\n",
    "import numpy as np\n",
    "from numpy import linalg\n",
    "import math\n",
    "\n",
    "from sympy import Matrix\n",
    "from sympy.physics.quantum import TensorProduct\n",
    "\n",
    "import matplotlib.pyplot as plt"
   ]
  },
  {
   "cell_type": "markdown",
   "id": "be6ea341",
   "metadata": {},
   "source": [
    "## The Problem\n",
    "\n",
    "The Ellipsoid Method(EM) solves convex optimization problems. It attemts to find a solution to the problem $\\textbf{min}(c^T x) \\textit{ s.t. } x \\in P = \\{x \\in R^n: Ax \\geq b\\}$ where $A$ and $b$ have integer inputs. If $P$ is empty, then EM will say so. Otherwise, it will find a feasible point, and then optimize from there."
   ]
  },
  {
   "cell_type": "markdown",
   "id": "4fd7ad49",
   "metadata": {},
   "source": [
    "### Initialize\n",
    "\n",
    "In order to run ellipsoid, we need a few objects. The first is the maximum number of iterations it is going to run and the second is the initial ellipsoid.\n",
    "\n",
    "By finding the smallest area of which $P$ can exist within, called $v$, and the largest area for a which a point of $P$ must exist within, called $V$, we can calculate the maximum number of iterations. We can then use a sphere of volume $V$ centered at $0$ as our first ellipsoid."
   ]
  },
  {
   "cell_type": "code",
   "execution_count": 331,
   "id": "600a0eea",
   "metadata": {},
   "outputs": [],
   "source": [
    "def Initialize(A,b):\n",
    "    U = float(max(A.max(),b.max()))\n",
    "    n = float(len(A[0]))\n",
    "    \n",
    "    small_v = n**(-n) * (n*U)**((-n**(2))*(n+1))\n",
    "    \n",
    "    big_V = (2*n)**n *(n*U)**(n**2)\n",
    "    max_time = math.ceil(2*(n+1)*math.log(big_V/small_v))\n",
    "    \n",
    "    radius = big_V/math.pi\n",
    "    D_0 = radius*np.identity(int(n))\n",
    "    \n",
    "    return(max_time, D_0)"
   ]
  },
  {
   "cell_type": "markdown",
   "id": "bff23072",
   "metadata": {},
   "source": [
    "### Conditioning and Rescaling\n",
    "\n",
    "In order to ensure EM works properly, we must condition and scale $A$ and $b$. First, we calculate a perturbation $e$ which affects $b$ which generates a new polyhedra $P_e$. This polyhedra will be empty if $P$ is empty, and fully dimensional if $P$ is not. Then, we add 0s to the rows of $A$ so we are working in the space $\\mathbb{R}^{2^n}$, this is so it can be represented as qubits. Finally, we normalize the rows of $A$ so that they can be encoded as quantum states. We scale $b$ accordingly \n"
   ]
  },
  {
   "cell_type": "code",
   "execution_count": 314,
   "id": "52b1fb19",
   "metadata": {},
   "outputs": [],
   "source": [
    "def Rescale(A,b):\n",
    "    A_rescale = []\n",
    "    b_rescale = []\n",
    "    \n",
    "    # Perturbs $b$ by a small amount so it is fully dimensional.\n",
    "    n = len(A[0])\n",
    "    U = float(max(A.max(),b.max()))\n",
    "    \n",
    "    perturbation =  1/(2*(n+1) * ((n+1)*U)**(n+1))\n",
    "    \n",
    "    # Takes the rows of A and adds extra 0 variables so we are in R^(2^n) for some n\n",
    "    small_length = len(A[0])\n",
    "    large_length = 2**(math.ceil(math.log(small_length,2)))  # The smallest power of 2 which is >= small_length\n",
    "    difference = large_length - small_length\n",
    "    \n",
    "    # Takes the rows of A as vectors and normalizes them\n",
    "    for row in range(len(A)):\n",
    "        length = 0.0\n",
    "        for entry in range(len(A[row])):\n",
    "            length = length+(float(A[row][entry])**2)\n",
    "        length = math.sqrt(length)\n",
    "        \n",
    "        temp_A = list(A[row]/length)\n",
    "        i = 0\n",
    "        while i < difference:\n",
    "            temp_A.append(0.0)\n",
    "            i = i+1\n",
    "        \n",
    "        temp_b = (b[row]-perturbation)/length  # This is where Perturbation is used\n",
    "        \n",
    "        A_rescale.append(temp_A)\n",
    "        b_rescale.append(temp_b)\n",
    "    \n",
    "    new_A = np.array(A_rescale)\n",
    "    new_b = np.array(b_rescale)\n",
    "    \n",
    "    return(new_A, new_b)"
   ]
  },
  {
   "cell_type": "markdown",
   "id": "8affe36c",
   "metadata": {},
   "source": [
    "### Swap Test\n",
    "\n",
    "Given two quantum states $|\\psi \\rangle$ and $|\\phi \\rangle$, the swap test can calculate $\\langle \\psi | \\phi \\rangle$ to within $\\epsilon$ with $\\mathcal{O}(\\frac{1}{\\epsilon^2})$ shots. Adapted from \"Quantum Algorithms to Matrix Multiplication\" by C. Shao"
   ]
  },
  {
   "cell_type": "code",
   "execution_count": 315,
   "id": "47c43de7",
   "metadata": {},
   "outputs": [],
   "source": [
    "def InnerProduct(a_row,x_vector,b_target,error):\n",
    "    # Rescale x_vector so it can be encoded as a quantum state. Adjust b_target to maintain\n",
    "    x_norm = np.linalg.norm(x_vector)\n",
    "    x_normalized = x_vector/x_norm\n",
    "    b_normalized = b_target/x_norm\n",
    "    \n",
    "    # Prepair states a_row and x_normalized\n",
    "    plus_state = np.array([[math.sqrt(2)/2], [math.sqrt(2)/2]])\n",
    "    minus_state = np.array([[math.sqrt(2)/2], [-math.sqrt(2)/2]])\n",
    "    \n",
    "    a_state = np.tensordot(plus_state,a_row,axes=0)\n",
    "    a_state = list(a_state)\n",
    "    a_state = list(a_state[0][0]) + list(a_state[1][0])\n",
    "    a_state = (math.sqrt(2)/2) * np.array(a_state)\n",
    "    \n",
    "    x_state = np.tensordot(minus_state,x_normalized,axes=0)\n",
    "    x_state = list(x_state)\n",
    "    x_state = list(x_state[0][0]) + list(x_state[1][0])\n",
    "    x_state = (math.sqrt(2)/2) * np.array(x_state)\n",
    "    \n",
    "    q_state = a_state + x_state\n",
    "    \n",
    "    # Create Cirucit\n",
    "    length = int(math.log(len(q_state), 2))\n",
    "    qc = QuantumCircuit(length,1)\n",
    "    qc.initialize(q_state)\n",
    "    \n",
    "    qc.measure(length-1,0)\n",
    "    \n",
    "    # Perform measurements\n",
    "    job = transpile(qc,backend=simulator)\n",
    "    shots = int(math.ceil(1/((0.9*error)**2)))\n",
    "    result = simulator.run(job, shots=shots).result()\n",
    "    \n",
    "    # Data Processing\n",
    "    inner_product = 2*(result.data()['counts']['0x0']/shots) - 1\n",
    "    difference = abs(inner_product - b_normalized)\n",
    "    \n",
    "    if difference >= error:\n",
    "        return a_row\n",
    "    else:\n",
    "        return \"Groovy\""
   ]
  },
  {
   "cell_type": "code",
   "execution_count": 316,
   "id": "775820b6",
   "metadata": {},
   "outputs": [
    {
     "data": {
      "text/plain": [
       "array([0.8, 0.6, 0. , 0. , 0. , 0. , 0. , 0. ])"
      ]
     },
     "execution_count": 316,
     "metadata": {},
     "output_type": "execute_result"
    }
   ],
   "source": [
    "InnerProduct(M[0],M[1],-0.8,0.01)"
   ]
  },
  {
   "cell_type": "markdown",
   "id": "1ca83563",
   "metadata": {},
   "source": [
    "### Violated $a_i$\n",
    "\n",
    "This function uses the SWAP test to determine if $Ax \\geq b$. If $Ax \\geq b$, then it passes. Otherwise, if returns the violated row of $A$."
   ]
  },
  {
   "cell_type": "code",
   "execution_count": 317,
   "id": "b422c170",
   "metadata": {},
   "outputs": [],
   "source": [
    "# Given A_matrix, x_vector, and b_vector, will tell which row of A_matrix has been violated, if any\n",
    "def ViolatedRow(A_matrix,x_vector,b_vector,error):\n",
    "    for rows in range(len(A)):\n",
    "        if type(InnerProduct(A[rows],x,b[rows],e)) == str:\n",
    "            pass\n",
    "        else:\n",
    "            return A[rows]\n",
    "        \n",
    "    return 'Groovy'"
   ]
  },
  {
   "cell_type": "markdown",
   "id": "3f2dc835",
   "metadata": {},
   "source": [
    "### Hamiltonian Gate\n",
    "\n",
    "Given a matrix $D$, this function will return the matrix $\\begin{pmatirx} 0 & D \\\\ D & 0\\end{pmatrix}$. This Hamiltonian matrix can then be used as quantum gate."
   ]
  },
  {
   "cell_type": "code",
   "execution_count": 318,
   "id": "498f078d",
   "metadata": {},
   "outputs": [],
   "source": [
    "def HamiltonianMatrix(D):\n",
    "    zero = np.zeros((len(D),len(D)))\n",
    "    right = np.concatenate((D, zero))\n",
    "    left = np.concatenate((zero, np.transpose(D)))\n",
    "    \n",
    "    Hamiltonian = np.hstack((left,right))\n",
    "    \n",
    "    return Hamiltonian"
   ]
  },
  {
   "cell_type": "markdown",
   "id": "3537f16e",
   "metadata": {},
   "source": [
    "### The Ellipsoid Method"
   ]
  },
  {
   "cell_type": "code",
   "execution_count": 319,
   "id": "5a21e0e8",
   "metadata": {},
   "outputs": [],
   "source": [
    "# Given matrix A and vector b, give vector x such that Ax >= b with probability alpha\n",
    "def EllipsoidFeasibility(A,b,alpha):\n",
    "    max_time, D_0 = Initialize(A,b)\n",
    "    \n",
    "    return D_0"
   ]
  },
  {
   "cell_type": "code",
   "execution_count": 326,
   "id": "3d80b575",
   "metadata": {},
   "outputs": [],
   "source": [
    "# Test Data\n",
    "A = np.array([[4.0, 3.0, 0.0, 0.0, 0.0],\n",
    "              [1.0, 0.0, 0.0, 0.0, 0.0],\n",
    "              [1.0, 1.0, 1.0, 1.0, 0.0]])\n",
    "\n",
    "x = np.array([3.0, 2.0, 1.0, 0.0])\n",
    "\n",
    "b = np.array([18.0, 3.0, 6.0])\n",
    "\n",
    "e = .01\n",
    "\n",
    "f = 3.0\n",
    "\n",
    "D = np.array([[f,0,0,1],\n",
    "              [0,f,0,0],\n",
    "              [0,0,f,0],\n",
    "              [0,0,0,f]])\n",
    "\n",
    "M,c = Rescale(A,b)"
   ]
  },
  {
   "cell_type": "code",
   "execution_count": 332,
   "id": "97a85c2f",
   "metadata": {},
   "outputs": [
    {
     "ename": "OverflowError",
     "evalue": "cannot convert float infinity to integer",
     "output_type": "error",
     "traceback": [
      "\u001b[1;31m---------------------------------------------------------------------------\u001b[0m",
      "\u001b[1;31mOverflowError\u001b[0m                             Traceback (most recent call last)",
      "Cell \u001b[1;32mIn[332], line 1\u001b[0m\n\u001b[1;32m----> 1\u001b[0m Initialize(A,b)\n",
      "Cell \u001b[1;32mIn[331], line 8\u001b[0m, in \u001b[0;36mInitialize\u001b[1;34m(A, b)\u001b[0m\n\u001b[0;32m      5\u001b[0m small_v \u001b[38;5;241m=\u001b[39m n\u001b[38;5;241m*\u001b[39m\u001b[38;5;241m*\u001b[39m(\u001b[38;5;241m-\u001b[39mn) \u001b[38;5;241m*\u001b[39m (n\u001b[38;5;241m*\u001b[39mU)\u001b[38;5;241m*\u001b[39m\u001b[38;5;241m*\u001b[39m((\u001b[38;5;241m-\u001b[39mn\u001b[38;5;241m*\u001b[39m\u001b[38;5;241m*\u001b[39m(\u001b[38;5;241m2\u001b[39m))\u001b[38;5;241m*\u001b[39m(n\u001b[38;5;241m+\u001b[39m\u001b[38;5;241m1\u001b[39m))\n\u001b[0;32m      7\u001b[0m big_V \u001b[38;5;241m=\u001b[39m (\u001b[38;5;241m2\u001b[39m\u001b[38;5;241m*\u001b[39mn)\u001b[38;5;241m*\u001b[39m\u001b[38;5;241m*\u001b[39mn \u001b[38;5;241m*\u001b[39m(n\u001b[38;5;241m*\u001b[39mU)\u001b[38;5;241m*\u001b[39m\u001b[38;5;241m*\u001b[39m(n\u001b[38;5;241m*\u001b[39m\u001b[38;5;241m*\u001b[39m\u001b[38;5;241m2\u001b[39m)\n\u001b[1;32m----> 8\u001b[0m max_time \u001b[38;5;241m=\u001b[39m math\u001b[38;5;241m.\u001b[39mceil(\u001b[38;5;241m2\u001b[39m\u001b[38;5;241m*\u001b[39m(n\u001b[38;5;241m+\u001b[39m\u001b[38;5;241m1\u001b[39m)\u001b[38;5;241m*\u001b[39mmath\u001b[38;5;241m.\u001b[39mlog(big_V\u001b[38;5;241m/\u001b[39msmall_v))\n\u001b[0;32m     10\u001b[0m radius \u001b[38;5;241m=\u001b[39m big_V\u001b[38;5;241m/\u001b[39mmath\u001b[38;5;241m.\u001b[39mpi\n\u001b[0;32m     11\u001b[0m D_0 \u001b[38;5;241m=\u001b[39m radius\u001b[38;5;241m*\u001b[39mnp\u001b[38;5;241m.\u001b[39midentity(\u001b[38;5;28mint\u001b[39m(n))\n",
      "\u001b[1;31mOverflowError\u001b[0m: cannot convert float infinity to integer"
     ]
    }
   ],
   "source": [
    "Initialize(A,b)"
   ]
  },
  {
   "cell_type": "code",
   "execution_count": null,
   "id": "058cf422",
   "metadata": {},
   "outputs": [],
   "source": []
  },
  {
   "cell_type": "code",
   "execution_count": null,
   "id": "a6a826de",
   "metadata": {},
   "outputs": [],
   "source": []
  },
  {
   "cell_type": "code",
   "execution_count": null,
   "id": "d63c9b24",
   "metadata": {},
   "outputs": [],
   "source": []
  }
 ],
 "metadata": {
  "kernelspec": {
   "display_name": "Python 3 (ipykernel)",
   "language": "python",
   "name": "python3"
  },
  "language_info": {
   "codemirror_mode": {
    "name": "ipython",
    "version": 3
   },
   "file_extension": ".py",
   "mimetype": "text/x-python",
   "name": "python",
   "nbconvert_exporter": "python",
   "pygments_lexer": "ipython3",
   "version": "3.11.9"
  }
 },
 "nbformat": 4,
 "nbformat_minor": 5
}
