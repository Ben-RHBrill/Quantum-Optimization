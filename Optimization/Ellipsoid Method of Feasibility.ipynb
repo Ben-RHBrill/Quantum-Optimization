{
 "cells": [
  {
   "cell_type": "markdown",
   "id": "415c3400",
   "metadata": {},
   "source": [
    "# Ellipsoid Method of Feasibility"
   ]
  },
  {
   "cell_type": "markdown",
   "id": "ba384891",
   "metadata": {},
   "source": [
    "The point of this code is to find a feasible point of a polygon $P = \\{x \\in \\mathbb{R}^n: Ax \\geq b\\}$ where $A$ is an $m \\times n$ matrix and $b$ is a vector of length $m$ "
   ]
  },
  {
   "cell_type": "code",
   "execution_count": 2,
   "id": "9f201605",
   "metadata": {},
   "outputs": [],
   "source": [
    "import numpy as np\n",
    "import math\n",
    "import matplotlib.pyplot as plt\n",
    "\n",
    "from numpy import linalg"
   ]
  },
  {
   "cell_type": "markdown",
   "id": "5035f55d",
   "metadata": {},
   "source": [
    "## Misc. Functions"
   ]
  },
  {
   "cell_type": "code",
   "execution_count": 3,
   "id": "d3c87960",
   "metadata": {},
   "outputs": [],
   "source": [
    "def sign(num):\n",
    "    if num < 0:\n",
    "        return -1\n",
    "    else:\n",
    "        return 1"
   ]
  },
  {
   "cell_type": "code",
   "execution_count": 4,
   "id": "6713d120",
   "metadata": {},
   "outputs": [],
   "source": [
    "# Gives the vertical transpose of a horizontal vector. Used in finding new center and ellipse.\n",
    "def trans(row):\n",
    "    new= []\n",
    "    for element in range(len(row)):\n",
    "        new.append([row[element]])\n",
    "        \n",
    "    return np.array(new)"
   ]
  },
  {
   "cell_type": "code",
   "execution_count": 5,
   "id": "2e4abbf0",
   "metadata": {},
   "outputs": [],
   "source": [
    "# Graphs a 2D ellipse of the form E(c,D)\n",
    "def graphEllipse(D,c):\n",
    "    x = np.linspace(-10,10, 1000)\n",
    "    y = np.linspace(-10,10, 1000)\n",
    "    x, y = np.meshgrid(x, y)\n",
    "    \n",
    "    inD = np.linalg.inv(D)\n",
    "    \n",
    "    plt.contour(x,y,((inD[0][0]*(x-c[0])**2) + ((inD[0][1]+inD[1][0])*(y-c[1])*(x-c[0])) + (inD[1][1]*(y-c[1])**2)), [1], colors='blue')\n",
    "    plt.plot(c[0],c[1], marker='o', color='red')\n",
    "    plt.show()"
   ]
  },
  {
   "cell_type": "markdown",
   "id": "d8dd3a4e",
   "metadata": {},
   "source": [
    "## Initialize"
   ]
  },
  {
   "cell_type": "code",
   "execution_count": 6,
   "id": "643ba5f4",
   "metadata": {},
   "outputs": [],
   "source": [
    "# This function find the correct length of our solution vector x\n",
    "def findDimension(A):\n",
    "    return(float(len(A[0])))"
   ]
  },
  {
   "cell_type": "code",
   "execution_count": 7,
   "id": "baa60c01",
   "metadata": {},
   "outputs": [],
   "source": [
    "# This function finds the largest item in the given matrix A and vector b, so it can be used in the initialization\n",
    "def findU(A,b):\n",
    "    List_of_Elements = []\n",
    "    \n",
    "    for row in A:\n",
    "        for element in row:\n",
    "            List_of_Elements.append(element)\n",
    "            \n",
    "    for row in b:\n",
    "        for element in row:\n",
    "            List_of_Elements.append(element)\n",
    "            \n",
    "    return(max(List_of_Elements))"
   ]
  },
  {
   "cell_type": "code",
   "execution_count": 8,
   "id": "db482afd",
   "metadata": {},
   "outputs": [],
   "source": [
    "# Generates the initial values needed maximum runtime, and our first ellipse. Radius given for graphing purposes\n",
    "def Initialize(A,b):\n",
    "    n = findDimension(A)\n",
    "    U = findU(A,b)\n",
    "    \n",
    "    # The smallest possible volume of the space\n",
    "    v = ((n**(-n)) * ((n*U)**(-(n**2)*(n+1))))\n",
    "    \n",
    "    \n",
    "    # The volume for which the must be a feasible point if one exists\n",
    "    W = (((2*n)**n) * (n * U)**(n**2))\n",
    "    \n",
    "    # Maximum number of iterations needed\n",
    "    Max_Time = math.ceil(2*(n+1) * math.log(W/v))\n",
    "    \n",
    "    # Gives the initial center as the origin\n",
    "    Center = np.zeros((int(n),1))\n",
    "    \n",
    "    # the radius squared of the initial circle\n",
    "    r2 = W/math.pi\n",
    "    \n",
    "    # Original Circle matrix\n",
    "    D = r2*np.identity(int(n))\n",
    "    \n",
    "    return Max_Time, Center, D, r2"
   ]
  },
  {
   "cell_type": "markdown",
   "id": "2b98be3d",
   "metadata": {},
   "source": [
    "## Main Loop"
   ]
  },
  {
   "cell_type": "code",
   "execution_count": 9,
   "id": "bdb8ed34",
   "metadata": {},
   "outputs": [],
   "source": [
    "# Give the expectation value for a given vector x and matrix A: x^T A x. Used in finding a new center and ellipse\n",
    "def expectation(A,x):\n",
    "    return x.dot(A.dot(trans(x)))[0]"
   ]
  },
  {
   "cell_type": "code",
   "execution_count": 10,
   "id": "c38779f9",
   "metadata": {},
   "outputs": [],
   "source": [
    "# gives A x x^T A, a new matrix for a new ellipse\n",
    "def newMatrix(A,x):\n",
    "    return A.dot(trans(x))*x.dot(A)"
   ]
  },
  {
   "cell_type": "code",
   "execution_count": 42,
   "id": "28ce7aac",
   "metadata": {},
   "outputs": [],
   "source": [
    "def NewCenter(n,a,D,c):\n",
    "    return c + (1/(n+1)) * ((D.dot(trans(a)))/(math.sqrt(expectation(D,a))))"
   ]
  },
  {
   "cell_type": "code",
   "execution_count": 47,
   "id": "b5e190c4",
   "metadata": {},
   "outputs": [],
   "source": [
    "def NewEllipseMatrix(n,a,D,c):\n",
    "    return (D - ((2/(n+1)) * (newMatrix(D,a)/expectation(D,a))))"
   ]
  },
  {
   "cell_type": "markdown",
   "id": "afdf6870",
   "metadata": {},
   "source": [
    "## Main Function"
   ]
  },
  {
   "cell_type": "code",
   "execution_count": 44,
   "id": "3f6c5879",
   "metadata": {},
   "outputs": [],
   "source": [
    "def FeasibilityEllipsoidMethod(A,b):\n",
    "    n = findDimension(A)\n",
    "    time = 0\n",
    "    # Initialize\n",
    "    Max_Time, center, D, r2 = Initialize(A,b)\n",
    "\n",
    "    index = 0\n",
    "    \n",
    "    # Goes through each row of A, to find if one has been violated\n",
    "    while index < len(A):\n",
    "        if time >= Max_Time:\n",
    "            return print('The solution space is empty.')\n",
    "        \n",
    "        if A[index].dot(center) >= b[index][0]:\n",
    "                index = index + 1\n",
    "        else:\n",
    "            center = NewCenter(n,A[index],D,center)\n",
    "            D = NewEllipseMatrix(n,A[index],D,center)\n",
    "            \n",
    "            time = time+1\n",
    "            index = 0\n",
    "            \n",
    "            # Will Graph each step if desired\n",
    "            #graphEllipse(D,center)\n",
    "    \n",
    "    return print(f'A valid solution is: \\n {center}')"
   ]
  },
  {
   "cell_type": "markdown",
   "id": "10e2120f",
   "metadata": {},
   "source": [
    "## Testing"
   ]
  },
  {
   "cell_type": "code",
   "execution_count": 45,
   "id": "084ba198",
   "metadata": {},
   "outputs": [],
   "source": [
    "A = np.array([[1,0,0],\n",
    "               [0,1,0],\n",
    "               [-1,-1,0]])\n",
    "\n",
    "x = np.array([[2.499],\n",
    "               [2.499],\n",
    "               [-5.1]])"
   ]
  },
  {
   "cell_type": "code",
   "execution_count": 46,
   "id": "ab6c65f8",
   "metadata": {},
   "outputs": [
    {
     "name": "stdout",
     "output_type": "stream",
     "text": [
      "A valid solution is: \n",
      " [[2.51006966]\n",
      " [2.53069097]\n",
      " [0.        ]]\n"
     ]
    }
   ],
   "source": [
    "FeasibilityEllipsoidMethod(A,x)"
   ]
  }
 ],
 "metadata": {
  "kernelspec": {
   "display_name": "Python 3 (ipykernel)",
   "language": "python",
   "name": "python3"
  },
  "language_info": {
   "codemirror_mode": {
    "name": "ipython",
    "version": 3
   },
   "file_extension": ".py",
   "mimetype": "text/x-python",
   "name": "python",
   "nbconvert_exporter": "python",
   "pygments_lexer": "ipython3",
   "version": "3.11.9"
  }
 },
 "nbformat": 4,
 "nbformat_minor": 5
}
