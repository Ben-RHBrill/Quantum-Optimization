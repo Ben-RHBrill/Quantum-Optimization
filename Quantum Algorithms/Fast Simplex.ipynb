{
 "cells": [
  {
   "cell_type": "code",
   "execution_count": 1,
   "id": "3f171128",
   "metadata": {},
   "outputs": [],
   "source": [
    "from qiskit import *\n",
    "from qiskit.circuit.library import UnitaryGate\n",
    "from qiskit.quantum_info import Statevector\n",
    "from qiskit_aer import AerSimulator\n",
    "simulator = AerSimulator()\n",
    "\n",
    "import numpy as np\n",
    "import math\n",
    "import random\n",
    "\n",
    "from sympy import Matrix\n",
    "from sympy.physics.quantum import TensorProduct\n",
    "\n",
    "import matplotlib.pyplot as plt\n",
    "\n",
    "%run QuantumFourierTransform.ipynb"
   ]
  },
  {
   "cell_type": "code",
   "execution_count": 2,
   "id": "359942a3",
   "metadata": {},
   "outputs": [],
   "source": [
    "# Interfere the output of two unitaries\n",
    "\n",
    "def Interfere(qc, u_unitary, v_unitary, start_qubit):\n",
    "    U = UnitaryGate(u_unitary,label='U').control(1)\n",
    "    V = UnitaryGate(v_unitary,label='V').control(1)\n",
    "    \n",
    "    # First Hadamard\n",
    "    qc.h(start_qubit)\n",
    "    qc.barrier(label='interfere')\n",
    "    \n",
    "    # Interference\n",
    "    qc.append(U,range(start_qubit,start_qubit+int(math.log(len(u_unitary),2))+1),0)\n",
    "    \n",
    "    qc.x(start_qubit)\n",
    "    qc.append(V,range(start_qubit,start_qubit+int(math.log(len(v_unitary),2))+1),0)\n",
    "    qc.x(start_qubit)\n",
    "    \n",
    "    qc.barrier(label='outerfere')\n",
    "    # Second Hadamard\n",
    "    qc.h(start_qubit)\n",
    "    \n",
    "    return qc"
   ]
  },
  {
   "cell_type": "code",
   "execution_count": null,
   "id": "be3dd1bc",
   "metadata": {},
   "outputs": [],
   "source": [
    "# Suppose we have oracle X which determines if a bit string is \"good\" or not\n",
    "# This algorithm gives the probability that quantum state A|x> colaspes into a \"good\" state\n",
    "# oracle should be a number\n",
    "\n",
    "def EstAmp(qc, matrix, oracle, size):\n",
    "    S_0\n",
    "    \n",
    "    QFT(qc, size, 0)\n",
    "    \n",
    "    "
   ]
  },
  {
   "cell_type": "code",
   "execution_count": 3,
   "id": "7b94eae1",
   "metadata": {},
   "outputs": [],
   "source": [
    "# No False Negatives: Checks to see if a state has negative entries\n",
    "# Quantum Circuit\n",
    "# size+1 is the number of qubits(including auxilary qubit)\n",
    "# U is a matrix which generates some state on 'size' qubits with coefficient alpha\n",
    "# k is some index in {0,...,2^n -1}\n",
    "# epsilon is percision\n",
    "\n",
    "# Output: 1 if alpha_k >= -epsilon, with prob 0.75\n",
    "\n",
    "def NFN(qc,size,u_unitary,k,epsilon):\n",
    "    V = np.identity(2**size)\n",
    "    V[0],V[k] = V[k],V[0].copy()\n",
    "    \n",
    "    Interfere(qc,u_unitary,V,0)"
   ]
  },
  {
   "cell_type": "code",
   "execution_count": 4,
   "id": "b6a6c645",
   "metadata": {},
   "outputs": [
    {
     "data": {
      "image/png": "[encoded data removed]",
      "text/plain": [
       "<Figure size 956.385x451.5 with 1 Axes>"
      ]
     },
     "execution_count": 4,
     "metadata": {},
     "output_type": "execute_result"
    }
   ],
   "source": [
    "qc = QuantumCircuit(5)\n",
    "\n",
    "NFN(qc, 3, np.identity(2**3), 1, 0.05)\n",
    "qc.draw(output='mpl')"
   ]
  },
  {
   "cell_type": "code",
   "execution_count": null,
   "id": "7267bcce",
   "metadata": {},
   "outputs": [],
   "source": []
  },
  {
   "cell_type": "code",
   "execution_count": 2,
   "id": "943b4c04",
   "metadata": {},
   "outputs": [],
   "source": [
    "def SimplexIter(matrix,basis,cost_vector,epsilon,delta):\n",
    "    return delta"
   ]
  },
  {
   "cell_type": "code",
   "execution_count": null,
   "id": "c1167cef",
   "metadata": {},
   "outputs": [],
   "source": []
  }
 ],
 "metadata": {
  "kernelspec": {
   "display_name": "Python 3 (ipykernel)",
   "language": "python",
   "name": "python3"
  },
  "language_info": {
   "codemirror_mode": {
    "name": "ipython",
    "version": 3
   },
   "file_extension": ".py",
   "mimetype": "text/x-python",
   "name": "python",
   "nbconvert_exporter": "python",
   "pygments_lexer": "ipython3",
   "version": "3.9.12"
  }
 },
 "nbformat": 4,
 "nbformat_minor": 5
}
