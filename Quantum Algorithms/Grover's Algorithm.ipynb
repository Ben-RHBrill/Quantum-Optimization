{
 "cells": [
  {
   "cell_type": "code",
   "execution_count": 301,
   "id": "39d2a2e9",
   "metadata": {},
   "outputs": [],
   "source": [
    "from qiskit import *\n",
    "from qiskit.circuit.library import UnitaryGate\n",
    "from qiskit.quantum_info import Statevector\n",
    "from qiskit_aer import AerSimulator\n",
    "simulator = AerSimulator()\n",
    "\n",
    "import numpy as np\n",
    "import math\n",
    "import random\n",
    "\n",
    "from sympy import Matrix\n",
    "from sympy.physics.quantum import TensorProduct\n",
    "\n",
    "import matplotlib.pyplot as plt"
   ]
  },
  {
   "cell_type": "code",
   "execution_count": 302,
   "id": "d24e0ab4",
   "metadata": {},
   "outputs": [],
   "source": [
    "Q0 = np.array([[1],[0]])\n",
    "Q1 = np.array([[0],[1]])\n",
    "\n",
    "H = 1/np.sqrt(2) * np.array([[1,1],\n",
    "                          [1,-1]])"
   ]
  },
  {
   "cell_type": "code",
   "execution_count": 303,
   "id": "bef26611",
   "metadata": {},
   "outputs": [],
   "source": [
    "# Gives the n fold tensor of a matrix M with iteslf\n",
    "def nFoldTensor(n,M):\n",
    "    NewM = M\n",
    "    \n",
    "    for i in range(n-1):\n",
    "        NewM = TensorProduct(NewM,M)\n",
    "        \n",
    "    return NewM\n",
    "\n",
    "# Next step in the diffusion opperator\n",
    "def diffusion(n):\n",
    "    matrix = -1*np.identity(2**n)\n",
    "    matrix[0][0] = 1\n",
    "    \n",
    "    return matrix"
   ]
  },
  {
   "cell_type": "code",
   "execution_count": 317,
   "id": "94ee8b54",
   "metadata": {
    "scrolled": true
   },
   "outputs": [],
   "source": [
    "# Input number of qubits and the number of shots\n",
    "\n",
    "def Grover(n,s):\n",
    "    # Select a random number to generate the oracle\n",
    "    Goal = random.randrange(2**n)\n",
    "\n",
    "    #=============================================================#\n",
    "    # U_o is the oracle needed for Grover's Algorithm\n",
    "    U_o = np.identity(2**n)\n",
    "    U_o[Goal][Goal] = -1\n",
    "\n",
    "    # U_s is the diffusion operator\n",
    "    U_s = nFoldTensor(n,H)@diffusion(n)@nFoldTensor(n,H)\n",
    "\n",
    "    #=============================================================#\n",
    "    # Generate the Grover gate which is repeated n times\n",
    "    Grover = U_o @ U_s\n",
    "    GroverGate = UnitaryGate(Grover, label='$G$')\n",
    "\n",
    "    #=============================================================#\n",
    "    qc = QuantumCircuit(n)\n",
    "    \n",
    "    # Add the Hadamard Gate to get uniform quantum position\n",
    "    for i in range(n):\n",
    "        qc.h(i)\n",
    "    \n",
    "    # Add the Grover Gate to have high odds of getting it right\n",
    "    for i in range(n):\n",
    "        qc.append(GroverGate,range(n))\n",
    "\n",
    "    # Final Measurement\n",
    "    qc.measure_all()\n",
    "    #=============================================================#\n",
    "    # Running the simulation locally\n",
    "    qc_aer = transpile(qc,backend=simulator)\n",
    "\n",
    "    # Number of shots on the simulation\n",
    "    shots = s\n",
    "    result = simulator.run(qc_aer, shots=shots).result()\n",
    "    \n",
    "    #=============================================================#\n",
    "    # Collecting the data, x is the numbers between 0 and n-1, \n",
    "    # y is the probability of each number being the correct one.\n",
    "    x = []\n",
    "    y = []\n",
    "\n",
    "    for i in range(2**n):\n",
    "        x.append(i)\n",
    "    \n",
    "        try:\n",
    "            y.append(result.data(qc)['counts'][hex(i)]/shots)\n",
    "        except:\n",
    "            y.append(0)\n",
    "    \n",
    "    \n",
    "    #=============================================================#\n",
    "    # Output the Goal and what you got\n",
    "    # return Goal, y.index(max(y))\n",
    "    \n",
    "    # Output a bar graph of the results of all shots\n",
    "    # return plt.bar(x,y)\n",
    "    \n",
    "    # Output a drawing of the quantum circuit\n",
    "    return qc.draw(output='mpl')"
   ]
  },
  {
   "cell_type": "code",
   "execution_count": 318,
   "id": "def166ba",
   "metadata": {},
   "outputs": [
    {
     "data": {
      "image/png": "[encoded data removed]",
      "text/plain": [
       "<Figure size 998.442x451.5 with 1 Axes>"
      ]
     },
     "execution_count": 318,
     "metadata": {},
     "output_type": "execute_result"
    }
   ],
   "source": [
    "Grover(4,100)"
   ]
  },
  {
   "cell_type": "code",
   "execution_count": null,
   "id": "99d4b846",
   "metadata": {},
   "outputs": [],
   "source": [
    "def AmpAmp(size, state):\n",
    "    "
   ]
  }
 ],
 "metadata": {
  "kernelspec": {
   "display_name": "Python 3 (ipykernel)",
   "language": "python",
   "name": "python3"
  },
  "language_info": {
   "codemirror_mode": {
    "name": "ipython",
    "version": 3
   },
   "file_extension": ".py",
   "mimetype": "text/x-python",
   "name": "python",
   "nbconvert_exporter": "python",
   "pygments_lexer": "ipython3",
   "version": "3.9.12"
  }
 },
 "nbformat": 4,
 "nbformat_minor": 5
}
