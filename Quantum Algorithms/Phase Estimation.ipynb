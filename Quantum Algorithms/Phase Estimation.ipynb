{
 "cells": [
  {
   "cell_type": "code",
   "execution_count": 10,
   "id": "1886935e",
   "metadata": {},
   "outputs": [],
   "source": [
    "from qiskit import *\n",
    "from qiskit.circuit.library import UnitaryGate\n",
    "from qiskit.quantum_info import Statevector\n",
    "from qiskit_aer import AerSimulator\n",
    "simulator = AerSimulator()\n",
    "\n",
    "import numpy as np\n",
    "import math\n",
    "import random\n",
    "\n",
    "from sympy import Matrix\n",
    "from sympy.physics.quantum import TensorProduct\n",
    "\n",
    "import matplotlib.pyplot as plt\n",
    "\n",
    "%run QuantumFourierTransform.ipynb"
   ]
  },
  {
   "cell_type": "code",
   "execution_count": 11,
   "id": "d632a69a",
   "metadata": {},
   "outputs": [],
   "source": [
    "e= math.e\n",
    "pi = math.pi\n",
    "i = 1j"
   ]
  },
  {
   "cell_type": "code",
   "execution_count": null,
   "id": "b007ea60",
   "metadata": {},
   "outputs": [],
   "source": [
    "# Given matrix M, outputs M**(2**power)\n",
    "def MatrixPowersTwo(matrix,power):\n",
    "    "
   ]
  },
  {
   "cell_type": "code",
   "execution_count": 27,
   "id": "e15c051f",
   "metadata": {},
   "outputs": [],
   "source": [
    "def PhaseEstimation(Circuit,Unitary,Vector,Persision):\n",
    "    # Apply Hadamard Gates to the upper register\n",
    "    for qubit in range(Persision):\n",
    "        qc.h(qubit)\n",
    "    \n",
    "    qc.barrier(label='Unitaries')\n",
    "    \n",
    "    # Generating Controlled U operations\n",
    "    Unitaries = {}\n",
    "    for power in range(Persision):\n",
    "        Unitaries[power] = UnitaryGate(Unitary**(2**power),label=f'U_{power}').control(1)\n",
    "    \n",
    "    \n",
    "    # Inverse Fourier Transform on the upper register\n",
    "    nQFT(Circuit, Persision,0)\n",
    "    \n",
    "    return Circuit"
   ]
  },
  {
   "cell_type": "code",
   "execution_count": 28,
   "id": "cd485507",
   "metadata": {},
   "outputs": [
    {
     "ename": "ValueError",
     "evalue": "not enough values to unpack (expected 2, got 0)",
     "output_type": "error",
     "traceback": [
      "\u001b[1;31m---------------------------------------------------------------------------\u001b[0m",
      "\u001b[1;31mValueError\u001b[0m                                Traceback (most recent call last)",
      "Input \u001b[1;32mIn [28]\u001b[0m, in \u001b[0;36m<cell line: 3>\u001b[1;34m()\u001b[0m\n\u001b[0;32m      1\u001b[0m qc \u001b[38;5;241m=\u001b[39m QuantumCircuit(\u001b[38;5;241m5\u001b[39m)\n\u001b[1;32m----> 3\u001b[0m \u001b[43mPhaseEstimation\u001b[49m\u001b[43m(\u001b[49m\u001b[43mqc\u001b[49m\u001b[43m,\u001b[49m\u001b[38;5;241;43m0\u001b[39;49m\u001b[43m,\u001b[49m\u001b[38;5;241;43m0\u001b[39;49m\u001b[43m,\u001b[49m\u001b[38;5;241;43m3\u001b[39;49m\u001b[43m)\u001b[49m\n\u001b[0;32m      5\u001b[0m qc\u001b[38;5;241m.\u001b[39mdraw(output\u001b[38;5;241m=\u001b[39m\u001b[38;5;124m'\u001b[39m\u001b[38;5;124mmpl\u001b[39m\u001b[38;5;124m'\u001b[39m)\n",
      "Input \u001b[1;32mIn [27]\u001b[0m, in \u001b[0;36mPhaseEstimation\u001b[1;34m(Circuit, Unitary, Vector, Persision)\u001b[0m\n\u001b[0;32m      9\u001b[0m Unitaries \u001b[38;5;241m=\u001b[39m {}\n\u001b[0;32m     10\u001b[0m \u001b[38;5;28;01mfor\u001b[39;00m power \u001b[38;5;129;01min\u001b[39;00m \u001b[38;5;28mrange\u001b[39m(Persision):\n\u001b[1;32m---> 11\u001b[0m     Unitaries[power] \u001b[38;5;241m=\u001b[39m \u001b[43mUnitaryGate\u001b[49m\u001b[43m(\u001b[49m\u001b[43mUnitary\u001b[49m\u001b[38;5;241;43m*\u001b[39;49m\u001b[38;5;241;43m*\u001b[39;49m\u001b[43m(\u001b[49m\u001b[38;5;241;43m2\u001b[39;49m\u001b[38;5;241;43m*\u001b[39;49m\u001b[38;5;241;43m*\u001b[39;49m\u001b[43mpower\u001b[49m\u001b[43m)\u001b[49m\u001b[43m,\u001b[49m\u001b[43mlabel\u001b[49m\u001b[38;5;241;43m=\u001b[39;49m\u001b[38;5;124;43mf\u001b[39;49m\u001b[38;5;124;43m'\u001b[39;49m\u001b[38;5;124;43mU_\u001b[39;49m\u001b[38;5;132;43;01m{\u001b[39;49;00m\u001b[43mpower\u001b[49m\u001b[38;5;132;43;01m}\u001b[39;49;00m\u001b[38;5;124;43m'\u001b[39;49m\u001b[43m)\u001b[49m\u001b[38;5;241m.\u001b[39mcontrol(\u001b[38;5;241m1\u001b[39m)\n\u001b[0;32m     14\u001b[0m \u001b[38;5;66;03m# Inverse Fourier Transform on the upper register\u001b[39;00m\n\u001b[0;32m     15\u001b[0m nQFT(Circuit, Persision,\u001b[38;5;241m0\u001b[39m)\n",
      "File \u001b[1;32m~\\anaconda3\\lib\\site-packages\\qiskit\\circuit\\library\\generalized_gates\\unitary.py:98\u001b[0m, in \u001b[0;36mUnitaryGate.__init__\u001b[1;34m(self, data, label, check_input)\u001b[0m\n\u001b[0;32m     96\u001b[0m \u001b[38;5;66;03m# Convert to numpy array in case not already an array\u001b[39;00m\n\u001b[0;32m     97\u001b[0m data \u001b[38;5;241m=\u001b[39m numpy\u001b[38;5;241m.\u001b[39masarray(data, dtype\u001b[38;5;241m=\u001b[39m\u001b[38;5;28mcomplex\u001b[39m)\n\u001b[1;32m---> 98\u001b[0m input_dim, output_dim \u001b[38;5;241m=\u001b[39m data\u001b[38;5;241m.\u001b[39mshape\n\u001b[0;32m     99\u001b[0m num_qubits \u001b[38;5;241m=\u001b[39m \u001b[38;5;28mint\u001b[39m(numpy\u001b[38;5;241m.\u001b[39mlog2(input_dim))\n\u001b[0;32m    100\u001b[0m \u001b[38;5;28;01mif\u001b[39;00m check_input:\n\u001b[0;32m    101\u001b[0m     \u001b[38;5;66;03m# Check input is unitary\u001b[39;00m\n",
      "\u001b[1;31mValueError\u001b[0m: not enough values to unpack (expected 2, got 0)"
     ]
    }
   ],
   "source": [
    "qc = QuantumCircuit(5)\n",
    "\n",
    "PhaseEstimation(qc,0,0,3)\n",
    "\n",
    "qc.draw(output='mpl')"
   ]
  },
  {
   "cell_type": "code",
   "execution_count": null,
   "id": "00620c99",
   "metadata": {},
   "outputs": [],
   "source": []
  }
 ],
 "metadata": {
  "kernelspec": {
   "display_name": "Python 3 (ipykernel)",
   "language": "python",
   "name": "python3"
  },
  "language_info": {
   "codemirror_mode": {
    "name": "ipython",
    "version": 3
   },
   "file_extension": ".py",
   "mimetype": "text/x-python",
   "name": "python",
   "nbconvert_exporter": "python",
   "pygments_lexer": "ipython3",
   "version": "3.9.12"
  }
 },
 "nbformat": 4,
 "nbformat_minor": 5
}
