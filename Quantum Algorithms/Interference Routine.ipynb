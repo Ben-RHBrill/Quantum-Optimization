{
 "cells": [
  {
   "cell_type": "code",
   "execution_count": 1,
   "id": "ec720bff",
   "metadata": {},
   "outputs": [],
   "source": [
    "from qiskit import *\n",
    "from qiskit.circuit.library import UnitaryGate\n",
    "from qiskit.quantum_info import Statevector\n",
    "from qiskit_aer import AerSimulator\n",
    "simulator = AerSimulator()\n",
    "\n",
    "import numpy as np\n",
    "import math\n",
    "import random\n",
    "\n",
    "from sympy import Matrix\n",
    "from sympy.physics.quantum import TensorProduct\n",
    "\n",
    "import matplotlib.pyplot as plt\n",
    "\n",
    "e= math.e\n",
    "pi = math.pi\n",
    "i = 1j"
   ]
  },
  {
   "cell_type": "code",
   "execution_count": 37,
   "id": "622be4a8",
   "metadata": {},
   "outputs": [],
   "source": [
    "def Interfere(qc, u_unitary, v_unitary, start_qubit):\n",
    "    U = UnitaryGate(u_unitary,label='U').control(1)\n",
    "    V = UnitaryGate(v_unitary,label='V').control(1)\n",
    "    \n",
    "    # First Hadamard\n",
    "    qc.h(start_qubit)\n",
    "    qc.barrier(label='interfere')\n",
    "    # Interference\n",
    "    qc.append(U,range(start_qubit,start_qubit+int(math.log(len(u_unitary),2))+1),0)\n",
    "    \n",
    "    qc.x(start_qubit)\n",
    "    qc.append(V,range(start_qubit,start_qubit+int(math.log(len(v_unitary),2))+1),0)\n",
    "    qc.x(start_qubit)\n",
    "    \n",
    "    qc.barrier(label='outerfere')\n",
    "    # Second Hadamard\n",
    "    qc.h(start_qubit)\n",
    "    \n",
    "    qc.save_statevector()\n",
    "    \n",
    "    return qc"
   ]
  },
  {
   "cell_type": "code",
   "execution_count": 38,
   "id": "b3c85452",
   "metadata": {},
   "outputs": [
    {
     "data": {
      "image/png": "[encoded data removed]",
      "text/plain": [
       "<Figure size 1207.22x284.278 with 1 Axes>"
      ]
     },
     "execution_count": 38,
     "metadata": {},
     "output_type": "execute_result"
    }
   ],
   "source": [
    "qc = QuantumCircuit(3)\n",
    "U = np.array([[i,0],\n",
    "              [0,i]])\n",
    "V = np.array([[0,1],\n",
    "              [-1,0]])\n",
    "TU = TensorProduct(U,U)\n",
    "\n",
    "Interfere(qc,TU,TensorProduct(V,V),0)\n",
    "qc.draw(output='mpl')"
   ]
  },
  {
   "cell_type": "code",
   "execution_count": 39,
   "id": "fc8c6ac5",
   "metadata": {},
   "outputs": [
    {
     "data": {
      "text/latex": [
       "$$- \\frac{1}{2} |000\\rangle+\\frac{1}{2} |001\\rangle+\\frac{1}{2} |110\\rangle+\\frac{1}{2} |111\\rangle$$"
      ],
      "text/plain": [
       "<IPython.core.display.Latex object>"
      ]
     },
     "execution_count": 39,
     "metadata": {},
     "output_type": "execute_result"
    }
   ],
   "source": [
    "job = transpile(qc,backend=simulator)\n",
    "shots = 1\n",
    "\n",
    "result = simulator.run(job, shots=shots).result()\n",
    "    \n",
    "psi = result.get_statevector(0)\n",
    "psi.draw(output='latex')"
   ]
  },
  {
   "cell_type": "code",
   "execution_count": null,
   "id": "b20bc5f4",
   "metadata": {},
   "outputs": [],
   "source": []
  }
 ],
 "metadata": {
  "kernelspec": {
   "display_name": "Python 3 (ipykernel)",
   "language": "python",
   "name": "python3"
  },
  "language_info": {
   "codemirror_mode": {
    "name": "ipython",
    "version": 3
   },
   "file_extension": ".py",
   "mimetype": "text/x-python",
   "name": "python",
   "nbconvert_exporter": "python",
   "pygments_lexer": "ipython3",
   "version": "3.9.12"
  }
 },
 "nbformat": 4,
 "nbformat_minor": 5
}
